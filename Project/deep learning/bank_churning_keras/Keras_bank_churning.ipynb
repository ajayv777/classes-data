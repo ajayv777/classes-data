{
  "nbformat": 4,
  "nbformat_minor": 0,
  "metadata": {
    "colab": {
      "name": "Untitled0.ipynb",
      "provenance": [],
      "collapsed_sections": []
    },
    "kernelspec": {
      "name": "python3",
      "display_name": "Python 3"
    },
    "accelerator": "GPU"
  },
  "cells": [
    {
      "cell_type": "code",
      "metadata": {
        "id": "GCgZjmWsls2t",
        "colab_type": "code",
        "colab": {
          "base_uri": "https://localhost:8080/",
          "height": 34
        },
        "outputId": "f9749803-1096-4ce2-ade8-a964c65d2a16"
      },
      "source": [
        "!pip install -q keras\n",
        "import keras"
      ],
      "execution_count": 1,
      "outputs": [
        {
          "output_type": "stream",
          "text": [
            "Using TensorFlow backend.\n"
          ],
          "name": "stderr"
        }
      ]
    },
    {
      "cell_type": "code",
      "metadata": {
        "id": "YBMh7T70m-CW",
        "colab_type": "code",
        "colab": {}
      },
      "source": [
        "import keras\n",
        "import tensorflow\n",
        "import numpy as np\n",
        "import pandas as pd\n",
        "import matplotlib.pyplot as plt"
      ],
      "execution_count": 0,
      "outputs": []
    },
    {
      "cell_type": "code",
      "metadata": {
        "id": "BHP37vX1oKXW",
        "colab_type": "code",
        "colab": {
          "resources": {
            "http://localhost:8080/nbextensions/google.colab/files.js": {
              "data": "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",
              "ok": true,
              "headers": [
                [
                  "content-type",
                  "application/javascript"
                ]
              ],
              "status": 200,
              "status_text": ""
            }
          },
          "base_uri": "https://localhost:8080/",
          "height": 74
        },
        "outputId": "257d0c74-1aa0-453c-ddcd-5d80e89fe6ab"
      },
      "source": [
        "from google.colab import files\n",
        "uploaded = files.upload()"
      ],
      "execution_count": 8,
      "outputs": [
        {
          "output_type": "display_data",
          "data": {
            "text/html": [
              "\n",
              "     <input type=\"file\" id=\"files-8dda507e-62ce-40b8-8c49-b3a2ea7ee1b5\" name=\"files[]\" multiple disabled />\n",
              "     <output id=\"result-8dda507e-62ce-40b8-8c49-b3a2ea7ee1b5\">\n",
              "      Upload widget is only available when the cell has been executed in the\n",
              "      current browser session. Please rerun this cell to enable.\n",
              "      </output>\n",
              "      <script src=\"/nbextensions/google.colab/files.js\"></script> "
            ],
            "text/plain": [
              "<IPython.core.display.HTML object>"
            ]
          },
          "metadata": {
            "tags": []
          }
        },
        {
          "output_type": "stream",
          "text": [
            "Saving Churn_Modelling.csv to Churn_Modelling.csv\n"
          ],
          "name": "stdout"
        }
      ]
    },
    {
      "cell_type": "code",
      "metadata": {
        "id": "Y7n1cHkgp536",
        "colab_type": "code",
        "colab": {}
      },
      "source": [
        "import io\n",
        "df = pd.read_csv(io.BytesIO(uploaded['Churn_Modelling.csv']))\n",
        "#df2 = pd.read_csv(io.BytesIO(uploaded['Churn_modelling.csv']))"
      ],
      "execution_count": 0,
      "outputs": []
    },
    {
      "cell_type": "code",
      "metadata": {
        "id": "XUUzk2g3qfyo",
        "colab_type": "code",
        "colab": {
          "base_uri": "https://localhost:8080/",
          "height": 173
        },
        "outputId": "9b589b12-69e6-4fa7-f0de-90cc326befb0"
      },
      "source": [
        "df.head(4)\n"
      ],
      "execution_count": 14,
      "outputs": [
        {
          "output_type": "execute_result",
          "data": {
            "text/html": [
              "<div>\n",
              "<style scoped>\n",
              "    .dataframe tbody tr th:only-of-type {\n",
              "        vertical-align: middle;\n",
              "    }\n",
              "\n",
              "    .dataframe tbody tr th {\n",
              "        vertical-align: top;\n",
              "    }\n",
              "\n",
              "    .dataframe thead th {\n",
              "        text-align: right;\n",
              "    }\n",
              "</style>\n",
              "<table border=\"1\" class=\"dataframe\">\n",
              "  <thead>\n",
              "    <tr style=\"text-align: right;\">\n",
              "      <th></th>\n",
              "      <th>RowNumber</th>\n",
              "      <th>CustomerId</th>\n",
              "      <th>Surname</th>\n",
              "      <th>CreditScore</th>\n",
              "      <th>Geography</th>\n",
              "      <th>Gender</th>\n",
              "      <th>Age</th>\n",
              "      <th>Tenure</th>\n",
              "      <th>Balance</th>\n",
              "      <th>NumOfProducts</th>\n",
              "      <th>HasCrCard</th>\n",
              "      <th>IsActiveMember</th>\n",
              "      <th>EstimatedSalary</th>\n",
              "      <th>Exited</th>\n",
              "    </tr>\n",
              "  </thead>\n",
              "  <tbody>\n",
              "    <tr>\n",
              "      <th>0</th>\n",
              "      <td>1</td>\n",
              "      <td>15634602</td>\n",
              "      <td>Hargrave</td>\n",
              "      <td>619</td>\n",
              "      <td>France</td>\n",
              "      <td>Female</td>\n",
              "      <td>42</td>\n",
              "      <td>2</td>\n",
              "      <td>0.00</td>\n",
              "      <td>1</td>\n",
              "      <td>1</td>\n",
              "      <td>1</td>\n",
              "      <td>101348.88</td>\n",
              "      <td>1</td>\n",
              "    </tr>\n",
              "    <tr>\n",
              "      <th>1</th>\n",
              "      <td>2</td>\n",
              "      <td>15647311</td>\n",
              "      <td>Hill</td>\n",
              "      <td>608</td>\n",
              "      <td>Spain</td>\n",
              "      <td>Female</td>\n",
              "      <td>41</td>\n",
              "      <td>1</td>\n",
              "      <td>83807.86</td>\n",
              "      <td>1</td>\n",
              "      <td>0</td>\n",
              "      <td>1</td>\n",
              "      <td>112542.58</td>\n",
              "      <td>0</td>\n",
              "    </tr>\n",
              "    <tr>\n",
              "      <th>2</th>\n",
              "      <td>3</td>\n",
              "      <td>15619304</td>\n",
              "      <td>Onio</td>\n",
              "      <td>502</td>\n",
              "      <td>France</td>\n",
              "      <td>Female</td>\n",
              "      <td>42</td>\n",
              "      <td>8</td>\n",
              "      <td>159660.80</td>\n",
              "      <td>3</td>\n",
              "      <td>1</td>\n",
              "      <td>0</td>\n",
              "      <td>113931.57</td>\n",
              "      <td>1</td>\n",
              "    </tr>\n",
              "    <tr>\n",
              "      <th>3</th>\n",
              "      <td>4</td>\n",
              "      <td>15701354</td>\n",
              "      <td>Boni</td>\n",
              "      <td>699</td>\n",
              "      <td>France</td>\n",
              "      <td>Female</td>\n",
              "      <td>39</td>\n",
              "      <td>1</td>\n",
              "      <td>0.00</td>\n",
              "      <td>2</td>\n",
              "      <td>0</td>\n",
              "      <td>0</td>\n",
              "      <td>93826.63</td>\n",
              "      <td>0</td>\n",
              "    </tr>\n",
              "  </tbody>\n",
              "</table>\n",
              "</div>"
            ],
            "text/plain": [
              "   RowNumber  CustomerId   Surname  ...  IsActiveMember EstimatedSalary Exited\n",
              "0          1    15634602  Hargrave  ...               1       101348.88      1\n",
              "1          2    15647311      Hill  ...               1       112542.58      0\n",
              "2          3    15619304      Onio  ...               0       113931.57      1\n",
              "3          4    15701354      Boni  ...               0        93826.63      0\n",
              "\n",
              "[4 rows x 14 columns]"
            ]
          },
          "metadata": {
            "tags": []
          },
          "execution_count": 14
        }
      ]
    },
    {
      "cell_type": "code",
      "metadata": {
        "id": "2Tq10bL5rIEw",
        "colab_type": "code",
        "colab": {
          "base_uri": "https://localhost:8080/",
          "height": 221
        },
        "outputId": "0897d86b-6970-4e0c-b819-97cdfd821e66"
      },
      "source": [
        "X = df.iloc[:, 3:13]\n",
        "X\n",
        "y = df.iloc[:, -1]\n",
        "y"
      ],
      "execution_count": 34,
      "outputs": [
        {
          "output_type": "execute_result",
          "data": {
            "text/plain": [
              "0       1\n",
              "1       0\n",
              "2       1\n",
              "3       0\n",
              "4       0\n",
              "       ..\n",
              "9995    0\n",
              "9996    0\n",
              "9997    1\n",
              "9998    1\n",
              "9999    0\n",
              "Name: Exited, Length: 10000, dtype: int64"
            ]
          },
          "metadata": {
            "tags": []
          },
          "execution_count": 34
        }
      ]
    },
    {
      "cell_type": "code",
      "metadata": {
        "id": "ATv0-uWtsvnk",
        "colab_type": "code",
        "colab": {}
      },
      "source": [
        "geography = pd.get_dummies(df['Geography'], drop_first=True)\n",
        "gender = pd.get_dummies(df['Gender'], drop_first=True)\n"
      ],
      "execution_count": 0,
      "outputs": []
    },
    {
      "cell_type": "code",
      "metadata": {
        "id": "q_PrRinFs-rc",
        "colab_type": "code",
        "colab": {
          "base_uri": "https://localhost:8080/",
          "height": 419
        },
        "outputId": "3ce49842-b7a8-4a1a-ef70-f7d28a9afdd7"
      },
      "source": [
        "X = pd.concat([X, geography, gender], axis = 1)\n",
        "X.drop(['Geography', 'Gender'], axis = 1, inplace = True)\n",
        "X"
      ],
      "execution_count": 36,
      "outputs": [
        {
          "output_type": "execute_result",
          "data": {
            "text/html": [
              "<div>\n",
              "<style scoped>\n",
              "    .dataframe tbody tr th:only-of-type {\n",
              "        vertical-align: middle;\n",
              "    }\n",
              "\n",
              "    .dataframe tbody tr th {\n",
              "        vertical-align: top;\n",
              "    }\n",
              "\n",
              "    .dataframe thead th {\n",
              "        text-align: right;\n",
              "    }\n",
              "</style>\n",
              "<table border=\"1\" class=\"dataframe\">\n",
              "  <thead>\n",
              "    <tr style=\"text-align: right;\">\n",
              "      <th></th>\n",
              "      <th>CreditScore</th>\n",
              "      <th>Age</th>\n",
              "      <th>Tenure</th>\n",
              "      <th>Balance</th>\n",
              "      <th>NumOfProducts</th>\n",
              "      <th>HasCrCard</th>\n",
              "      <th>IsActiveMember</th>\n",
              "      <th>EstimatedSalary</th>\n",
              "      <th>Germany</th>\n",
              "      <th>Spain</th>\n",
              "      <th>Male</th>\n",
              "    </tr>\n",
              "  </thead>\n",
              "  <tbody>\n",
              "    <tr>\n",
              "      <th>0</th>\n",
              "      <td>619</td>\n",
              "      <td>42</td>\n",
              "      <td>2</td>\n",
              "      <td>0.00</td>\n",
              "      <td>1</td>\n",
              "      <td>1</td>\n",
              "      <td>1</td>\n",
              "      <td>101348.88</td>\n",
              "      <td>0</td>\n",
              "      <td>0</td>\n",
              "      <td>0</td>\n",
              "    </tr>\n",
              "    <tr>\n",
              "      <th>1</th>\n",
              "      <td>608</td>\n",
              "      <td>41</td>\n",
              "      <td>1</td>\n",
              "      <td>83807.86</td>\n",
              "      <td>1</td>\n",
              "      <td>0</td>\n",
              "      <td>1</td>\n",
              "      <td>112542.58</td>\n",
              "      <td>0</td>\n",
              "      <td>1</td>\n",
              "      <td>0</td>\n",
              "    </tr>\n",
              "    <tr>\n",
              "      <th>2</th>\n",
              "      <td>502</td>\n",
              "      <td>42</td>\n",
              "      <td>8</td>\n",
              "      <td>159660.80</td>\n",
              "      <td>3</td>\n",
              "      <td>1</td>\n",
              "      <td>0</td>\n",
              "      <td>113931.57</td>\n",
              "      <td>0</td>\n",
              "      <td>0</td>\n",
              "      <td>0</td>\n",
              "    </tr>\n",
              "    <tr>\n",
              "      <th>3</th>\n",
              "      <td>699</td>\n",
              "      <td>39</td>\n",
              "      <td>1</td>\n",
              "      <td>0.00</td>\n",
              "      <td>2</td>\n",
              "      <td>0</td>\n",
              "      <td>0</td>\n",
              "      <td>93826.63</td>\n",
              "      <td>0</td>\n",
              "      <td>0</td>\n",
              "      <td>0</td>\n",
              "    </tr>\n",
              "    <tr>\n",
              "      <th>4</th>\n",
              "      <td>850</td>\n",
              "      <td>43</td>\n",
              "      <td>2</td>\n",
              "      <td>125510.82</td>\n",
              "      <td>1</td>\n",
              "      <td>1</td>\n",
              "      <td>1</td>\n",
              "      <td>79084.10</td>\n",
              "      <td>0</td>\n",
              "      <td>1</td>\n",
              "      <td>0</td>\n",
              "    </tr>\n",
              "    <tr>\n",
              "      <th>...</th>\n",
              "      <td>...</td>\n",
              "      <td>...</td>\n",
              "      <td>...</td>\n",
              "      <td>...</td>\n",
              "      <td>...</td>\n",
              "      <td>...</td>\n",
              "      <td>...</td>\n",
              "      <td>...</td>\n",
              "      <td>...</td>\n",
              "      <td>...</td>\n",
              "      <td>...</td>\n",
              "    </tr>\n",
              "    <tr>\n",
              "      <th>9995</th>\n",
              "      <td>771</td>\n",
              "      <td>39</td>\n",
              "      <td>5</td>\n",
              "      <td>0.00</td>\n",
              "      <td>2</td>\n",
              "      <td>1</td>\n",
              "      <td>0</td>\n",
              "      <td>96270.64</td>\n",
              "      <td>0</td>\n",
              "      <td>0</td>\n",
              "      <td>1</td>\n",
              "    </tr>\n",
              "    <tr>\n",
              "      <th>9996</th>\n",
              "      <td>516</td>\n",
              "      <td>35</td>\n",
              "      <td>10</td>\n",
              "      <td>57369.61</td>\n",
              "      <td>1</td>\n",
              "      <td>1</td>\n",
              "      <td>1</td>\n",
              "      <td>101699.77</td>\n",
              "      <td>0</td>\n",
              "      <td>0</td>\n",
              "      <td>1</td>\n",
              "    </tr>\n",
              "    <tr>\n",
              "      <th>9997</th>\n",
              "      <td>709</td>\n",
              "      <td>36</td>\n",
              "      <td>7</td>\n",
              "      <td>0.00</td>\n",
              "      <td>1</td>\n",
              "      <td>0</td>\n",
              "      <td>1</td>\n",
              "      <td>42085.58</td>\n",
              "      <td>0</td>\n",
              "      <td>0</td>\n",
              "      <td>0</td>\n",
              "    </tr>\n",
              "    <tr>\n",
              "      <th>9998</th>\n",
              "      <td>772</td>\n",
              "      <td>42</td>\n",
              "      <td>3</td>\n",
              "      <td>75075.31</td>\n",
              "      <td>2</td>\n",
              "      <td>1</td>\n",
              "      <td>0</td>\n",
              "      <td>92888.52</td>\n",
              "      <td>1</td>\n",
              "      <td>0</td>\n",
              "      <td>1</td>\n",
              "    </tr>\n",
              "    <tr>\n",
              "      <th>9999</th>\n",
              "      <td>792</td>\n",
              "      <td>28</td>\n",
              "      <td>4</td>\n",
              "      <td>130142.79</td>\n",
              "      <td>1</td>\n",
              "      <td>1</td>\n",
              "      <td>0</td>\n",
              "      <td>38190.78</td>\n",
              "      <td>0</td>\n",
              "      <td>0</td>\n",
              "      <td>0</td>\n",
              "    </tr>\n",
              "  </tbody>\n",
              "</table>\n",
              "<p>10000 rows × 11 columns</p>\n",
              "</div>"
            ],
            "text/plain": [
              "      CreditScore  Age  Tenure  ...  Germany  Spain  Male\n",
              "0             619   42       2  ...        0      0     0\n",
              "1             608   41       1  ...        0      1     0\n",
              "2             502   42       8  ...        0      0     0\n",
              "3             699   39       1  ...        0      0     0\n",
              "4             850   43       2  ...        0      1     0\n",
              "...           ...  ...     ...  ...      ...    ...   ...\n",
              "9995          771   39       5  ...        0      0     1\n",
              "9996          516   35      10  ...        0      0     1\n",
              "9997          709   36       7  ...        0      0     0\n",
              "9998          772   42       3  ...        1      0     1\n",
              "9999          792   28       4  ...        0      0     0\n",
              "\n",
              "[10000 rows x 11 columns]"
            ]
          },
          "metadata": {
            "tags": []
          },
          "execution_count": 36
        }
      ]
    },
    {
      "cell_type": "code",
      "metadata": {
        "id": "wwO32oYZtmXd",
        "colab_type": "code",
        "colab": {}
      },
      "source": [
        "from sklearn.model_selection import train_test_split\n",
        "from sklearn.preprocessing import StandardScaler\n"
      ],
      "execution_count": 0,
      "outputs": []
    },
    {
      "cell_type": "code",
      "metadata": {
        "id": "hSedWLbiuooR",
        "colab_type": "code",
        "colab": {}
      },
      "source": [
        "X_train, X_test, y_train, y_test = train_test_split(X, y, test_size = 0.2, random_state = 0)\n"
      ],
      "execution_count": 0,
      "outputs": []
    },
    {
      "cell_type": "code",
      "metadata": {
        "id": "mnt0aQ-8u7h_",
        "colab_type": "code",
        "colab": {}
      },
      "source": [
        "sc = StandardScaler()\n",
        "X_train = sc.fit_transform(X_train)\n",
        "X_test = sc.transform(X_test)\n"
      ],
      "execution_count": 0,
      "outputs": []
    },
    {
      "cell_type": "code",
      "metadata": {
        "id": "2qGLSf_SvLun",
        "colab_type": "code",
        "colab": {
          "base_uri": "https://localhost:8080/",
          "height": 34
        },
        "outputId": "e473b7a9-7d9c-4c90-8e69-718e4b6d606e"
      },
      "source": [
        "X.shape"
      ],
      "execution_count": 38,
      "outputs": [
        {
          "output_type": "execute_result",
          "data": {
            "text/plain": [
              "(10000, 11)"
            ]
          },
          "metadata": {
            "tags": []
          },
          "execution_count": 38
        }
      ]
    },
    {
      "cell_type": "code",
      "metadata": {
        "id": "lCeKcLPDxyJj",
        "colab_type": "code",
        "colab": {}
      },
      "source": [
        "from keras.models import Sequential # Sequential is used to make ANN, CNN type neural network.\n",
        "from keras.layers import Dense   # Dense is used to create hidden layers in NN\n",
        "from keras.layers import Dropout  # Dropout regularisation technique\n"
      ],
      "execution_count": 0,
      "outputs": []
    },
    {
      "cell_type": "code",
      "metadata": {
        "id": "sC5_uaSZMesY",
        "colab_type": "code",
        "colab": {}
      },
      "source": [
        "classifier = Sequential()"
      ],
      "execution_count": 0,
      "outputs": []
    },
    {
      "cell_type": "code",
      "metadata": {
        "id": "2as9UooFn6iP",
        "colab_type": "code",
        "colab": {}
      },
      "source": [
        "\n",
        "\n",
        "#adding first hidden layer\n",
        "classifier.add(Dense(units=10, kernel_initializer='he_uniform', activation= 'relu', input_dim = 11))\n",
        "classifier.add(Dropout(0.3))\n"
      ],
      "execution_count": 0,
      "outputs": []
    },
    {
      "cell_type": "code",
      "metadata": {
        "id": "islJ7e_qMdJy",
        "colab_type": "code",
        "colab": {}
      },
      "source": [
        ""
      ],
      "execution_count": 0,
      "outputs": []
    },
    {
      "cell_type": "code",
      "metadata": {
        "id": "Sbx10TGb13KQ",
        "colab_type": "code",
        "colab": {}
      },
      "source": [
        "#adding 2nd hiddn layer\n",
        "\n",
        "classifier.add(Dense(units=10, kernel_initializer= 'he_uniform', activation='relu'))\n",
        "classifier.add(Dropout(0.3))\n"
      ],
      "execution_count": 0,
      "outputs": []
    },
    {
      "cell_type": "code",
      "metadata": {
        "id": "OgLSxsgFL-Jm",
        "colab_type": "code",
        "colab": {}
      },
      "source": [
        "# 3rd hiddern layer\n",
        "classifier.add(Dense(units=12, kernel_initializer = 'he_normal', activation='relu'))\n",
        "classifier.add(Dropout(0.3))"
      ],
      "execution_count": 0,
      "outputs": []
    },
    {
      "cell_type": "code",
      "metadata": {
        "id": "6dpzsNlZ52An",
        "colab_type": "code",
        "colab": {}
      },
      "source": [
        "classifier.summary() #use question mark to find information about the code in colab"
      ],
      "execution_count": 0,
      "outputs": []
    },
    {
      "cell_type": "code",
      "metadata": {
        "id": "twusLdHt158Q",
        "colab_type": "code",
        "colab": {}
      },
      "source": [
        "#adding  output layer\n",
        "\n",
        "classifier.add(Dense(units= 1, kernel_initializer='glorot_uniform', activation = 'sigmoid'))\n"
      ],
      "execution_count": 0,
      "outputs": []
    },
    {
      "cell_type": "code",
      "metadata": {
        "id": "Dw5f-9sp2If7",
        "colab_type": "code",
        "colab": {}
      },
      "source": [
        "#compliling the networks together\n",
        "classifier.compile(optimizer='adam', loss='binary_crossentropy', metrics=['accuracy'])"
      ],
      "execution_count": 0,
      "outputs": []
    },
    {
      "cell_type": "code",
      "metadata": {
        "id": "sSMEd02q5aQZ",
        "colab_type": "code",
        "colab": {
          "base_uri": "https://localhost:8080/",
          "height": 1000
        },
        "outputId": "7a258e2c-22d6-4b1b-d390-e0385f7d9290"
      },
      "source": [
        "#running ANN algo for prediciton of training set\n",
        "model_history = classifier.fit(X_train, y_train, validation_split=0.33, batch_size = 10, epochs = 100)"
      ],
      "execution_count": 67,
      "outputs": [
        {
          "output_type": "stream",
          "text": [
            "Train on 5359 samples, validate on 2641 samples\n",
            "Epoch 1/100\n",
            "5359/5359 [==============================] - 4s 711us/step - loss: 0.6642 - accuracy: 0.6930 - val_loss: 0.5132 - val_accuracy: 0.7955\n",
            "Epoch 2/100\n",
            "5359/5359 [==============================] - 3s 620us/step - loss: 0.5306 - accuracy: 0.7895 - val_loss: 0.4997 - val_accuracy: 0.7955\n",
            "Epoch 3/100\n",
            "5359/5359 [==============================] - 3s 601us/step - loss: 0.5075 - accuracy: 0.7938 - val_loss: 0.4824 - val_accuracy: 0.7955\n",
            "Epoch 4/100\n",
            "5359/5359 [==============================] - 3s 623us/step - loss: 0.4927 - accuracy: 0.7981 - val_loss: 0.4554 - val_accuracy: 0.7970\n",
            "Epoch 5/100\n",
            "5359/5359 [==============================] - 3s 605us/step - loss: 0.4778 - accuracy: 0.8041 - val_loss: 0.4426 - val_accuracy: 0.7989\n",
            "Epoch 6/100\n",
            "5359/5359 [==============================] - 3s 598us/step - loss: 0.4596 - accuracy: 0.8119 - val_loss: 0.4251 - val_accuracy: 0.8133\n",
            "Epoch 7/100\n",
            "5359/5359 [==============================] - 3s 605us/step - loss: 0.4445 - accuracy: 0.8173 - val_loss: 0.4104 - val_accuracy: 0.8254\n",
            "Epoch 8/100\n",
            "5359/5359 [==============================] - 3s 627us/step - loss: 0.4258 - accuracy: 0.8276 - val_loss: 0.4007 - val_accuracy: 0.8289\n",
            "Epoch 9/100\n",
            "5359/5359 [==============================] - 3s 597us/step - loss: 0.4116 - accuracy: 0.8321 - val_loss: 0.3908 - val_accuracy: 0.8315\n",
            "Epoch 10/100\n",
            "5359/5359 [==============================] - 3s 593us/step - loss: 0.4113 - accuracy: 0.8315 - val_loss: 0.3892 - val_accuracy: 0.8338\n",
            "Epoch 11/100\n",
            "5359/5359 [==============================] - 3s 603us/step - loss: 0.4038 - accuracy: 0.8337 - val_loss: 0.3831 - val_accuracy: 0.8379\n",
            "Epoch 12/100\n",
            "5359/5359 [==============================] - 3s 603us/step - loss: 0.3924 - accuracy: 0.8410 - val_loss: 0.3865 - val_accuracy: 0.8330\n",
            "Epoch 13/100\n",
            "5359/5359 [==============================] - 3s 607us/step - loss: 0.3865 - accuracy: 0.8406 - val_loss: 0.3784 - val_accuracy: 0.8383\n",
            "Epoch 14/100\n",
            "5359/5359 [==============================] - 3s 602us/step - loss: 0.3893 - accuracy: 0.8399 - val_loss: 0.3740 - val_accuracy: 0.8417\n",
            "Epoch 15/100\n",
            "5359/5359 [==============================] - 3s 602us/step - loss: 0.3885 - accuracy: 0.8414 - val_loss: 0.3778 - val_accuracy: 0.8349\n",
            "Epoch 16/100\n",
            "5359/5359 [==============================] - 3s 599us/step - loss: 0.3818 - accuracy: 0.8425 - val_loss: 0.3757 - val_accuracy: 0.8383\n",
            "Epoch 17/100\n",
            "5359/5359 [==============================] - 3s 608us/step - loss: 0.3759 - accuracy: 0.8490 - val_loss: 0.3737 - val_accuracy: 0.8425\n",
            "Epoch 18/100\n",
            "5359/5359 [==============================] - 3s 589us/step - loss: 0.3771 - accuracy: 0.8468 - val_loss: 0.3806 - val_accuracy: 0.8334\n",
            "Epoch 19/100\n",
            "5359/5359 [==============================] - 3s 598us/step - loss: 0.3715 - accuracy: 0.8477 - val_loss: 0.3752 - val_accuracy: 0.8406\n",
            "Epoch 20/100\n",
            "5359/5359 [==============================] - 3s 618us/step - loss: 0.3672 - accuracy: 0.8446 - val_loss: 0.3772 - val_accuracy: 0.8387\n",
            "Epoch 21/100\n",
            "5359/5359 [==============================] - 3s 615us/step - loss: 0.3774 - accuracy: 0.8434 - val_loss: 0.3724 - val_accuracy: 0.8372\n",
            "Epoch 22/100\n",
            "5359/5359 [==============================] - 3s 598us/step - loss: 0.3685 - accuracy: 0.8515 - val_loss: 0.3740 - val_accuracy: 0.8376\n",
            "Epoch 23/100\n",
            "5359/5359 [==============================] - 3s 613us/step - loss: 0.3647 - accuracy: 0.8500 - val_loss: 0.3687 - val_accuracy: 0.8444\n",
            "Epoch 24/100\n",
            "5359/5359 [==============================] - 3s 610us/step - loss: 0.3678 - accuracy: 0.8520 - val_loss: 0.3717 - val_accuracy: 0.8391\n",
            "Epoch 25/100\n",
            "5359/5359 [==============================] - 3s 606us/step - loss: 0.3705 - accuracy: 0.8475 - val_loss: 0.3701 - val_accuracy: 0.8413\n",
            "Epoch 26/100\n",
            "5359/5359 [==============================] - 3s 617us/step - loss: 0.3652 - accuracy: 0.8489 - val_loss: 0.3700 - val_accuracy: 0.8395\n",
            "Epoch 27/100\n",
            "5359/5359 [==============================] - 3s 590us/step - loss: 0.3685 - accuracy: 0.8487 - val_loss: 0.3722 - val_accuracy: 0.8372\n",
            "Epoch 28/100\n",
            "5359/5359 [==============================] - 3s 601us/step - loss: 0.3678 - accuracy: 0.8466 - val_loss: 0.3706 - val_accuracy: 0.8406\n",
            "Epoch 29/100\n",
            "5359/5359 [==============================] - 3s 623us/step - loss: 0.3692 - accuracy: 0.8494 - val_loss: 0.3744 - val_accuracy: 0.8353\n",
            "Epoch 30/100\n",
            "5359/5359 [==============================] - 3s 621us/step - loss: 0.3573 - accuracy: 0.8518 - val_loss: 0.3653 - val_accuracy: 0.8429\n",
            "Epoch 31/100\n",
            "5359/5359 [==============================] - 3s 606us/step - loss: 0.3667 - accuracy: 0.8489 - val_loss: 0.3692 - val_accuracy: 0.8425\n",
            "Epoch 32/100\n",
            "5359/5359 [==============================] - 3s 611us/step - loss: 0.3643 - accuracy: 0.8462 - val_loss: 0.3683 - val_accuracy: 0.8421\n",
            "Epoch 33/100\n",
            "5359/5359 [==============================] - 3s 611us/step - loss: 0.3695 - accuracy: 0.8481 - val_loss: 0.3774 - val_accuracy: 0.8319\n",
            "Epoch 34/100\n",
            "5359/5359 [==============================] - 3s 597us/step - loss: 0.3653 - accuracy: 0.8479 - val_loss: 0.3723 - val_accuracy: 0.8379\n",
            "Epoch 35/100\n",
            "5359/5359 [==============================] - 3s 596us/step - loss: 0.3650 - accuracy: 0.8531 - val_loss: 0.3675 - val_accuracy: 0.8417\n",
            "Epoch 36/100\n",
            "5359/5359 [==============================] - 3s 606us/step - loss: 0.3632 - accuracy: 0.8509 - val_loss: 0.3699 - val_accuracy: 0.8383\n",
            "Epoch 37/100\n",
            "5359/5359 [==============================] - 3s 607us/step - loss: 0.3603 - accuracy: 0.8556 - val_loss: 0.3745 - val_accuracy: 0.8406\n",
            "Epoch 38/100\n",
            "5359/5359 [==============================] - 3s 597us/step - loss: 0.3654 - accuracy: 0.8446 - val_loss: 0.3676 - val_accuracy: 0.8444\n",
            "Epoch 39/100\n",
            "5359/5359 [==============================] - 3s 619us/step - loss: 0.3624 - accuracy: 0.8490 - val_loss: 0.3722 - val_accuracy: 0.8342\n",
            "Epoch 40/100\n",
            "5359/5359 [==============================] - 3s 615us/step - loss: 0.3542 - accuracy: 0.8552 - val_loss: 0.3645 - val_accuracy: 0.8444\n",
            "Epoch 41/100\n",
            "5359/5359 [==============================] - 3s 591us/step - loss: 0.3598 - accuracy: 0.8505 - val_loss: 0.3725 - val_accuracy: 0.8353\n",
            "Epoch 42/100\n",
            "5359/5359 [==============================] - 3s 606us/step - loss: 0.3629 - accuracy: 0.8513 - val_loss: 0.3753 - val_accuracy: 0.8323\n",
            "Epoch 43/100\n",
            "5359/5359 [==============================] - 3s 611us/step - loss: 0.3590 - accuracy: 0.8528 - val_loss: 0.3728 - val_accuracy: 0.8364\n",
            "Epoch 44/100\n",
            "5359/5359 [==============================] - 3s 609us/step - loss: 0.3609 - accuracy: 0.8507 - val_loss: 0.3741 - val_accuracy: 0.8345\n",
            "Epoch 45/100\n",
            "5359/5359 [==============================] - 3s 607us/step - loss: 0.3560 - accuracy: 0.8524 - val_loss: 0.3700 - val_accuracy: 0.8406\n",
            "Epoch 46/100\n",
            "5359/5359 [==============================] - 4s 660us/step - loss: 0.3685 - accuracy: 0.8490 - val_loss: 0.3627 - val_accuracy: 0.8470\n",
            "Epoch 47/100\n",
            "5359/5359 [==============================] - 3s 637us/step - loss: 0.3651 - accuracy: 0.8522 - val_loss: 0.3658 - val_accuracy: 0.8429\n",
            "Epoch 48/100\n",
            "5359/5359 [==============================] - 3s 606us/step - loss: 0.3556 - accuracy: 0.8530 - val_loss: 0.3655 - val_accuracy: 0.8436\n",
            "Epoch 49/100\n",
            "5359/5359 [==============================] - 3s 626us/step - loss: 0.3531 - accuracy: 0.8569 - val_loss: 0.3724 - val_accuracy: 0.8368\n",
            "Epoch 50/100\n",
            "5359/5359 [==============================] - 3s 600us/step - loss: 0.3605 - accuracy: 0.8509 - val_loss: 0.3677 - val_accuracy: 0.8417\n",
            "Epoch 51/100\n",
            "5359/5359 [==============================] - 3s 623us/step - loss: 0.3560 - accuracy: 0.8528 - val_loss: 0.3667 - val_accuracy: 0.8406\n",
            "Epoch 52/100\n",
            "5359/5359 [==============================] - 3s 598us/step - loss: 0.3566 - accuracy: 0.8548 - val_loss: 0.3660 - val_accuracy: 0.8406\n",
            "Epoch 53/100\n",
            "5359/5359 [==============================] - 3s 603us/step - loss: 0.3542 - accuracy: 0.8558 - val_loss: 0.3624 - val_accuracy: 0.8463\n",
            "Epoch 54/100\n",
            "5359/5359 [==============================] - 3s 606us/step - loss: 0.3604 - accuracy: 0.8535 - val_loss: 0.3661 - val_accuracy: 0.8421\n",
            "Epoch 55/100\n",
            "5359/5359 [==============================] - 3s 596us/step - loss: 0.3508 - accuracy: 0.8565 - val_loss: 0.3695 - val_accuracy: 0.8398\n",
            "Epoch 56/100\n",
            "5359/5359 [==============================] - 3s 602us/step - loss: 0.3523 - accuracy: 0.8556 - val_loss: 0.3624 - val_accuracy: 0.8459\n",
            "Epoch 57/100\n",
            "5359/5359 [==============================] - 3s 609us/step - loss: 0.3549 - accuracy: 0.8567 - val_loss: 0.3615 - val_accuracy: 0.8466\n",
            "Epoch 58/100\n",
            "5359/5359 [==============================] - 3s 636us/step - loss: 0.3583 - accuracy: 0.8524 - val_loss: 0.3641 - val_accuracy: 0.8459\n",
            "Epoch 59/100\n",
            "5359/5359 [==============================] - 3s 610us/step - loss: 0.3564 - accuracy: 0.8589 - val_loss: 0.3607 - val_accuracy: 0.8478\n",
            "Epoch 60/100\n",
            "5359/5359 [==============================] - 3s 607us/step - loss: 0.3522 - accuracy: 0.8550 - val_loss: 0.3639 - val_accuracy: 0.8429\n",
            "Epoch 61/100\n",
            "5359/5359 [==============================] - 3s 610us/step - loss: 0.3535 - accuracy: 0.8571 - val_loss: 0.3589 - val_accuracy: 0.8482\n",
            "Epoch 62/100\n",
            "5359/5359 [==============================] - 3s 616us/step - loss: 0.3539 - accuracy: 0.8535 - val_loss: 0.3620 - val_accuracy: 0.8463\n",
            "Epoch 63/100\n",
            "5359/5359 [==============================] - 3s 619us/step - loss: 0.3536 - accuracy: 0.8559 - val_loss: 0.3622 - val_accuracy: 0.8459\n",
            "Epoch 64/100\n",
            "5359/5359 [==============================] - 3s 613us/step - loss: 0.3544 - accuracy: 0.8586 - val_loss: 0.3599 - val_accuracy: 0.8466\n",
            "Epoch 65/100\n",
            "5359/5359 [==============================] - 3s 610us/step - loss: 0.3600 - accuracy: 0.8524 - val_loss: 0.3564 - val_accuracy: 0.8493\n",
            "Epoch 66/100\n",
            "5359/5359 [==============================] - 3s 602us/step - loss: 0.3478 - accuracy: 0.8543 - val_loss: 0.3628 - val_accuracy: 0.8470\n",
            "Epoch 67/100\n",
            "5359/5359 [==============================] - 3s 603us/step - loss: 0.3546 - accuracy: 0.8543 - val_loss: 0.3610 - val_accuracy: 0.8474\n",
            "Epoch 68/100\n",
            "5359/5359 [==============================] - 3s 601us/step - loss: 0.3642 - accuracy: 0.8475 - val_loss: 0.3601 - val_accuracy: 0.8470\n",
            "Epoch 69/100\n",
            "5359/5359 [==============================] - 3s 598us/step - loss: 0.3515 - accuracy: 0.8546 - val_loss: 0.3580 - val_accuracy: 0.8485\n",
            "Epoch 70/100\n",
            "5359/5359 [==============================] - 3s 604us/step - loss: 0.3578 - accuracy: 0.8528 - val_loss: 0.3618 - val_accuracy: 0.8448\n",
            "Epoch 71/100\n",
            "5359/5359 [==============================] - 3s 604us/step - loss: 0.3506 - accuracy: 0.8561 - val_loss: 0.3608 - val_accuracy: 0.8451\n",
            "Epoch 72/100\n",
            "5359/5359 [==============================] - 3s 617us/step - loss: 0.3581 - accuracy: 0.8528 - val_loss: 0.3591 - val_accuracy: 0.8421\n",
            "Epoch 73/100\n",
            "5359/5359 [==============================] - 3s 619us/step - loss: 0.3487 - accuracy: 0.8565 - val_loss: 0.3575 - val_accuracy: 0.8474\n",
            "Epoch 74/100\n",
            "5359/5359 [==============================] - 3s 601us/step - loss: 0.3550 - accuracy: 0.8548 - val_loss: 0.3584 - val_accuracy: 0.8474\n",
            "Epoch 75/100\n",
            "5359/5359 [==============================] - 3s 603us/step - loss: 0.3577 - accuracy: 0.8546 - val_loss: 0.3610 - val_accuracy: 0.8470\n",
            "Epoch 76/100\n",
            "5359/5359 [==============================] - 3s 611us/step - loss: 0.3562 - accuracy: 0.8487 - val_loss: 0.3593 - val_accuracy: 0.8470\n",
            "Epoch 77/100\n",
            "5359/5359 [==============================] - 3s 604us/step - loss: 0.3549 - accuracy: 0.8595 - val_loss: 0.3599 - val_accuracy: 0.8463\n",
            "Epoch 78/100\n",
            "5359/5359 [==============================] - 3s 607us/step - loss: 0.3523 - accuracy: 0.8565 - val_loss: 0.3619 - val_accuracy: 0.8474\n",
            "Epoch 79/100\n",
            "5359/5359 [==============================] - 3s 607us/step - loss: 0.3515 - accuracy: 0.8561 - val_loss: 0.3614 - val_accuracy: 0.8466\n",
            "Epoch 80/100\n",
            "5359/5359 [==============================] - 3s 602us/step - loss: 0.3443 - accuracy: 0.8584 - val_loss: 0.3606 - val_accuracy: 0.8482\n",
            "Epoch 81/100\n",
            "5359/5359 [==============================] - 3s 604us/step - loss: 0.3523 - accuracy: 0.8572 - val_loss: 0.3588 - val_accuracy: 0.8504\n",
            "Epoch 82/100\n",
            "5359/5359 [==============================] - 3s 616us/step - loss: 0.3546 - accuracy: 0.8539 - val_loss: 0.3604 - val_accuracy: 0.8482\n",
            "Epoch 83/100\n",
            "5359/5359 [==============================] - 3s 600us/step - loss: 0.3540 - accuracy: 0.8537 - val_loss: 0.3615 - val_accuracy: 0.8463\n",
            "Epoch 84/100\n",
            "5359/5359 [==============================] - 3s 609us/step - loss: 0.3548 - accuracy: 0.8524 - val_loss: 0.3602 - val_accuracy: 0.8478\n",
            "Epoch 85/100\n",
            "5359/5359 [==============================] - 3s 604us/step - loss: 0.3507 - accuracy: 0.8559 - val_loss: 0.3658 - val_accuracy: 0.8417\n",
            "Epoch 86/100\n",
            "5359/5359 [==============================] - 3s 609us/step - loss: 0.3537 - accuracy: 0.8545 - val_loss: 0.3600 - val_accuracy: 0.8436\n",
            "Epoch 87/100\n",
            "5359/5359 [==============================] - 3s 601us/step - loss: 0.3506 - accuracy: 0.8578 - val_loss: 0.3631 - val_accuracy: 0.8444\n",
            "Epoch 88/100\n",
            "5359/5359 [==============================] - 3s 611us/step - loss: 0.3500 - accuracy: 0.8543 - val_loss: 0.3629 - val_accuracy: 0.8455\n",
            "Epoch 89/100\n",
            "5359/5359 [==============================] - 3s 592us/step - loss: 0.3527 - accuracy: 0.8518 - val_loss: 0.3580 - val_accuracy: 0.8440\n",
            "Epoch 90/100\n",
            "5359/5359 [==============================] - 3s 595us/step - loss: 0.3465 - accuracy: 0.8556 - val_loss: 0.3629 - val_accuracy: 0.8459\n",
            "Epoch 91/100\n",
            "5359/5359 [==============================] - 3s 599us/step - loss: 0.3530 - accuracy: 0.8569 - val_loss: 0.3659 - val_accuracy: 0.8436\n",
            "Epoch 92/100\n",
            "5359/5359 [==============================] - 3s 605us/step - loss: 0.3518 - accuracy: 0.8563 - val_loss: 0.3646 - val_accuracy: 0.8440\n",
            "Epoch 93/100\n",
            "5359/5359 [==============================] - 3s 598us/step - loss: 0.3481 - accuracy: 0.8556 - val_loss: 0.3634 - val_accuracy: 0.8459\n",
            "Epoch 94/100\n",
            "5359/5359 [==============================] - 3s 637us/step - loss: 0.3416 - accuracy: 0.8599 - val_loss: 0.3665 - val_accuracy: 0.8432\n",
            "Epoch 95/100\n",
            "5359/5359 [==============================] - 4s 674us/step - loss: 0.3542 - accuracy: 0.8554 - val_loss: 0.3621 - val_accuracy: 0.8474\n",
            "Epoch 96/100\n",
            "5359/5359 [==============================] - 4s 653us/step - loss: 0.3522 - accuracy: 0.8530 - val_loss: 0.3656 - val_accuracy: 0.8448\n",
            "Epoch 97/100\n",
            "5359/5359 [==============================] - 3s 617us/step - loss: 0.3451 - accuracy: 0.8558 - val_loss: 0.3607 - val_accuracy: 0.8474\n",
            "Epoch 98/100\n",
            "5359/5359 [==============================] - 3s 616us/step - loss: 0.3467 - accuracy: 0.8561 - val_loss: 0.3626 - val_accuracy: 0.8463\n",
            "Epoch 99/100\n",
            "5359/5359 [==============================] - 3s 619us/step - loss: 0.3394 - accuracy: 0.8587 - val_loss: 0.3604 - val_accuracy: 0.8470\n",
            "Epoch 100/100\n",
            "5359/5359 [==============================] - 3s 610us/step - loss: 0.3497 - accuracy: 0.8558 - val_loss: 0.3597 - val_accuracy: 0.8482\n"
          ],
          "name": "stdout"
        }
      ]
    },
    {
      "cell_type": "code",
      "metadata": {
        "id": "KZpLp3Sj_O_B",
        "colab_type": "code",
        "colab": {}
      },
      "source": [
        "#predicing on test set\n",
        "y_pred = classifier.predict(X_test)\n",
        "\n",
        "y_pred = (y_pred >0.5)\n"
      ],
      "execution_count": 0,
      "outputs": []
    },
    {
      "cell_type": "code",
      "metadata": {
        "id": "bajvye8J_cJl",
        "colab_type": "code",
        "colab": {}
      },
      "source": [
        "from sklearn.metrics import confusion_matrix\n",
        "cm = confusion_matrix(y_test, y_pred)\n",
        "\n",
        "from sklearn.metrics import accuracy_score\n",
        "\n",
        "score = accuracy_score(y_test, y_pred)"
      ],
      "execution_count": 0,
      "outputs": []
    },
    {
      "cell_type": "code",
      "metadata": {
        "id": "rZrqLGeG_4dv",
        "colab_type": "code",
        "colab": {
          "base_uri": "https://localhost:8080/",
          "height": 34
        },
        "outputId": "0b7f3322-dd88-4a8e-e916-084493f9e234"
      },
      "source": [
        "score"
      ],
      "execution_count": 70,
      "outputs": [
        {
          "output_type": "execute_result",
          "data": {
            "text/plain": [
              "0.8625"
            ]
          },
          "metadata": {
            "tags": []
          },
          "execution_count": 70
        }
      ]
    },
    {
      "cell_type": "code",
      "metadata": {
        "id": "XdPs8At6OZYX",
        "colab_type": "code",
        "colab": {}
      },
      "source": [
        ""
      ],
      "execution_count": 0,
      "outputs": []
    }
  ]
}