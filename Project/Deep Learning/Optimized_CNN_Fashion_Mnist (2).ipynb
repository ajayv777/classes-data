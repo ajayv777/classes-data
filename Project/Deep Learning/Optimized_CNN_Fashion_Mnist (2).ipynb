{
  "nbformat": 4,
  "nbformat_minor": 0,
  "metadata": {
    "colab": {
      "name": "Optimized_CNN_Fashion_Mnist.ipynb",
      "provenance": [],
      "collapsed_sections": []
    },
    "kernelspec": {
      "name": "python3",
      "display_name": "Python 3"
    },
    "accelerator": "GPU"
  },
  "cells": [
    {
      "cell_type": "code",
      "metadata": {
        "id": "_QvBBJeJbscc",
        "colab_type": "code",
        "outputId": "6fc372a0-e9bc-4d38-b834-2a38b15e70fe",
        "colab": {
          "base_uri": "https://localhost:8080/",
          "height": 530
        }
      },
      "source": [
        "\n",
        "!pip install -U keras-tuner"
      ],
      "execution_count": 14,
      "outputs": [
        {
          "output_type": "stream",
          "text": [
            "Collecting keras-tuner\n",
            "\u001b[?25l  Downloading https://files.pythonhosted.org/packages/a7/f7/4b41b6832abf4c9bef71a664dc563adb25afc5812831667c6db572b1a261/keras-tuner-1.0.1.tar.gz (54kB)\n",
            "\r\u001b[K     |██████                          | 10kB 19.4MB/s eta 0:00:01\r\u001b[K     |████████████                    | 20kB 4.3MB/s eta 0:00:01\r\u001b[K     |██████████████████              | 30kB 5.5MB/s eta 0:00:01\r\u001b[K     |████████████████████████        | 40kB 5.6MB/s eta 0:00:01\r\u001b[K     |██████████████████████████████  | 51kB 5.0MB/s eta 0:00:01\r\u001b[K     |████████████████████████████████| 61kB 3.6MB/s \n",
            "\u001b[?25hRequirement already satisfied, skipping upgrade: future in /usr/local/lib/python3.6/dist-packages (from keras-tuner) (0.16.0)\n",
            "Requirement already satisfied, skipping upgrade: numpy in /usr/local/lib/python3.6/dist-packages (from keras-tuner) (1.18.4)\n",
            "Requirement already satisfied, skipping upgrade: tabulate in /usr/local/lib/python3.6/dist-packages (from keras-tuner) (0.8.7)\n",
            "Collecting terminaltables\n",
            "  Downloading https://files.pythonhosted.org/packages/9b/c4/4a21174f32f8a7e1104798c445dacdc1d4df86f2f26722767034e4de4bff/terminaltables-3.1.0.tar.gz\n",
            "Collecting colorama\n",
            "  Downloading https://files.pythonhosted.org/packages/c9/dc/45cdef1b4d119eb96316b3117e6d5708a08029992b2fee2c143c7a0a5cc5/colorama-0.4.3-py2.py3-none-any.whl\n",
            "Requirement already satisfied, skipping upgrade: tqdm in /usr/local/lib/python3.6/dist-packages (from keras-tuner) (4.41.1)\n",
            "Requirement already satisfied, skipping upgrade: requests in /usr/local/lib/python3.6/dist-packages (from keras-tuner) (2.23.0)\n",
            "Requirement already satisfied, skipping upgrade: scipy in /usr/local/lib/python3.6/dist-packages (from keras-tuner) (1.4.1)\n",
            "Requirement already satisfied, skipping upgrade: scikit-learn in /usr/local/lib/python3.6/dist-packages (from keras-tuner) (0.22.2.post1)\n",
            "Requirement already satisfied, skipping upgrade: idna<3,>=2.5 in /usr/local/lib/python3.6/dist-packages (from requests->keras-tuner) (2.9)\n",
            "Requirement already satisfied, skipping upgrade: certifi>=2017.4.17 in /usr/local/lib/python3.6/dist-packages (from requests->keras-tuner) (2020.4.5.1)\n",
            "Requirement already satisfied, skipping upgrade: urllib3!=1.25.0,!=1.25.1,<1.26,>=1.21.1 in /usr/local/lib/python3.6/dist-packages (from requests->keras-tuner) (1.24.3)\n",
            "Requirement already satisfied, skipping upgrade: chardet<4,>=3.0.2 in /usr/local/lib/python3.6/dist-packages (from requests->keras-tuner) (3.0.4)\n",
            "Requirement already satisfied, skipping upgrade: joblib>=0.11 in /usr/local/lib/python3.6/dist-packages (from scikit-learn->keras-tuner) (0.15.1)\n",
            "Building wheels for collected packages: keras-tuner, terminaltables\n",
            "  Building wheel for keras-tuner (setup.py) ... \u001b[?25l\u001b[?25hdone\n",
            "  Created wheel for keras-tuner: filename=keras_tuner-1.0.1-cp36-none-any.whl size=73200 sha256=5fc06573a8d4b4884543d20ae5665740db0b7a1ae3560ab664afc55bfefdf5bf\n",
            "  Stored in directory: /root/.cache/pip/wheels/b9/cc/62/52716b70dd90f3db12519233c3a93a5360bc672da1a10ded43\n",
            "  Building wheel for terminaltables (setup.py) ... \u001b[?25l\u001b[?25hdone\n",
            "  Created wheel for terminaltables: filename=terminaltables-3.1.0-cp36-none-any.whl size=15356 sha256=54b896e0cca8cde6ce063d063238c296d6a84a6b0f178e5502f585145ad57a03\n",
            "  Stored in directory: /root/.cache/pip/wheels/30/6b/50/6c75775b681fb36cdfac7f19799888ef9d8813aff9e379663e\n",
            "Successfully built keras-tuner terminaltables\n",
            "Installing collected packages: terminaltables, colorama, keras-tuner\n",
            "Successfully installed colorama-0.4.3 keras-tuner-1.0.1 terminaltables-3.1.0\n"
          ],
          "name": "stdout"
        }
      ]
    },
    {
      "cell_type": "code",
      "metadata": {
        "id": "j6nxjGHJcEqV",
        "colab_type": "code",
        "outputId": "ec2008a6-0ea4-402e-bbcc-9c904e4cbe40",
        "colab": {
          "base_uri": "https://localhost:8080/",
          "height": 34
        }
      },
      "source": [
        "import tensorflow as tf\n",
        "from tensorflow import keras \n",
        "import numpy as np\n",
        "print(tf.__version__)"
      ],
      "execution_count": 15,
      "outputs": [
        {
          "output_type": "stream",
          "text": [
            "2.2.0\n"
          ],
          "name": "stdout"
        }
      ]
    },
    {
      "cell_type": "code",
      "metadata": {
        "id": "1osl_vsuBqXo",
        "colab_type": "code",
        "colab": {}
      },
      "source": [
        ""
      ],
      "execution_count": 0,
      "outputs": []
    },
    {
      "cell_type": "code",
      "metadata": {
        "id": "mDarL7Byc9Pm",
        "colab_type": "code",
        "colab": {}
      },
      "source": [
        "#download fashion mnist datset from keras \n",
        "\n",
        "fashion_mnist = keras.datasets.fashion_mnist\n"
      ],
      "execution_count": 0,
      "outputs": []
    },
    {
      "cell_type": "code",
      "metadata": {
        "id": "y3XaXIOYdF_u",
        "colab_type": "code",
        "outputId": "a4a6e76f-1149-4b8d-9185-647f4cd0f4b4",
        "colab": {
          "base_uri": "https://localhost:8080/",
          "height": 153
        }
      },
      "source": [
        "fashion_mnist\n",
        "\n",
        "(train_images, train_labels), (test_images, test_labels)= fashion_mnist.load_data()"
      ],
      "execution_count": 9,
      "outputs": [
        {
          "output_type": "stream",
          "text": [
            "Downloading data from https://storage.googleapis.com/tensorflow/tf-keras-datasets/train-labels-idx1-ubyte.gz\n",
            "32768/29515 [=================================] - 0s 0us/step\n",
            "Downloading data from https://storage.googleapis.com/tensorflow/tf-keras-datasets/train-images-idx3-ubyte.gz\n",
            "26427392/26421880 [==============================] - 1s 0us/step\n",
            "Downloading data from https://storage.googleapis.com/tensorflow/tf-keras-datasets/t10k-labels-idx1-ubyte.gz\n",
            "8192/5148 [===============================================] - 0s 0us/step\n",
            "Downloading data from https://storage.googleapis.com/tensorflow/tf-keras-datasets/t10k-images-idx3-ubyte.gz\n",
            "4423680/4422102 [==============================] - 0s 0us/step\n"
          ],
          "name": "stdout"
        }
      ]
    },
    {
      "cell_type": "code",
      "metadata": {
        "id": "hA-GoP9KdcuN",
        "colab_type": "code",
        "colab": {}
      },
      "source": [
        "# we are scaling the values to reduce the computation cost.\n",
        "\n",
        "train_images = train_images/255\n",
        "test_images = test_images/255"
      ],
      "execution_count": 0,
      "outputs": []
    },
    {
      "cell_type": "code",
      "metadata": {
        "id": "31UVuHsxe_Rz",
        "colab_type": "code",
        "colab": {}
      },
      "source": [
        "#we are reshaping our each examle in 4-Dimension \n",
        "\n",
        "train_images = train_images.reshape(len(train_images), 28,28, 1)\n",
        "\n",
        "test_images = test_images.reshape(len(test_images), 28,28,1)\n"
      ],
      "execution_count": 0,
      "outputs": []
    },
    {
      "cell_type": "code",
      "metadata": {
        "id": "qrcwS1hefoYB",
        "colab_type": "code",
        "colab": {}
      },
      "source": [
        "# lets define a funciton for building architecture of model\n",
        "\n",
        "def build_model(hp):\n",
        "  model = keras.Sequential([\n",
        "          keras.layers.Conv2D(                   #a minimal, a maximal and a default value for the Float and the Int types are given\n",
        "              filters = hp.Int('conv_1_filter', min_value = 32, max_value= 128, step= 16), #hp.choice is used for creating hyperparameter search space for integer value\n",
        "                                                             #optionally, a step value, i.e the minimal step between two hyperparameter values\n",
        "              kernel_size = hp.Choice('conv_1_kernel', values = [3,5]), #hp.choice is used to select any value from given set of value in this case either 3 or 5\n",
        "              activation = 'relu',     \n",
        "              input_shape = (28,28,1)\n",
        "          ),\n",
        "          keras.layers.Conv2D(\n",
        "              filters = hp.Int('conv_2_filter', min_value = 32, max_value= 64, step= 16),\n",
        "              kernel_size = hp.Choice('conv_2_kernel', values = [3,5]),\n",
        "              activation = 'relu'\n",
        "          ),\n",
        "          keras.layers.Flatten(),\n",
        "          keras.layers.Dense(\n",
        "              units = hp.Int('dense_1_units', min_value = 32, max_value=64, step = 16),\n",
        "              activation = 'relu'\n",
        "          ),\n",
        "          keras.layers.Dense(10, 'softmax')                            \n",
        "  ])\n",
        "\n",
        "  model.compile(optimizer = keras.optimizers.Adam(hp.Choice('learning_rate', values= [1e-2, 1e-3 ])),\n",
        "                loss = 'sparse_categorical_crossentropy',\n",
        "                metrics = ['accuracy'])\n",
        "  \n",
        "  return model"
      ],
      "execution_count": 0,
      "outputs": []
    },
    {
      "cell_type": "code",
      "metadata": {
        "id": "tNvWdMVlvfXD",
        "colab_type": "code",
        "colab": {}
      },
      "source": [
        "\n",
        "from tensorflow import keras\n",
        "from kerastuner.engine.hyperparameters import HyperParameters\n",
        "from kerastuner.tuners import RandomSearch, Hyperband"
      ],
      "execution_count": 0,
      "outputs": []
    },
    {
      "cell_type": "code",
      "metadata": {
        "id": "PlmRR8Y8fVkQ",
        "colab_type": "code",
        "colab": {}
      },
      "source": [
        "tuner_search = RandomSearch(build_model, \n",
        "                            objective= 'val_accuracy',\n",
        "                            max_trials = 5, directory = 'output', project_name = 'Mnist Fashion' )\n",
        "#max_trials variable represents the number of hyperparameter combinations that will be tested by the tuner,\n",
        "# execution_per_trial variable is the number of models that should be built and fit for each trial for robustness purposes. Th"
      ],
      "execution_count": 0,
      "outputs": []
    },
    {
      "cell_type": "code",
      "metadata": {
        "id": "xNcjDwJPyjGt",
        "colab_type": "code",
        "outputId": "05ae5bf8-d1e5-4d39-cb1a-9022bd77cf14",
        "colab": {
          "base_uri": "https://localhost:8080/",
          "height": 34
        }
      },
      "source": [
        "#search paramter starts training all the models\n",
        "\n",
        "tuner_search.search(train_images, train_labels, epochs = 3, validation_split = 0.1)"
      ],
      "execution_count": 0,
      "outputs": [
        {
          "output_type": "stream",
          "text": [
            "INFO:tensorflow:Oracle triggered exit\n"
          ],
          "name": "stdout"
        }
      ]
    },
    {
      "cell_type": "code",
      "metadata": {
        "id": "YW64Q_CW2vGK",
        "colab_type": "code",
        "colab": {}
      },
      "source": [
        "# finds the best model\n",
        "\n",
        "model = tuner_search.get_best_models(1)[0]\n"
      ],
      "execution_count": 0,
      "outputs": []
    },
    {
      "cell_type": "code",
      "metadata": {
        "id": "nJPJ549429nk",
        "colab_type": "code",
        "outputId": "d190c2c1-281c-4999-ca40-f681cb12da87",
        "colab": {
          "base_uri": "https://localhost:8080/",
          "height": 323
        }
      },
      "source": [
        "# all hyperparamter of the best models is given\n",
        "\n",
        "model.summary()"
      ],
      "execution_count": 0,
      "outputs": [
        {
          "output_type": "stream",
          "text": [
            "Model: \"sequential\"\n",
            "_________________________________________________________________\n",
            "Layer (type)                 Output Shape              Param #   \n",
            "=================================================================\n",
            "conv2d (Conv2D)              (None, 26, 26, 32)        320       \n",
            "_________________________________________________________________\n",
            "conv2d_1 (Conv2D)            (None, 24, 24, 48)        13872     \n",
            "_________________________________________________________________\n",
            "flatten (Flatten)            (None, 27648)             0         \n",
            "_________________________________________________________________\n",
            "dense (Dense)                (None, 48)                1327152   \n",
            "_________________________________________________________________\n",
            "dense_1 (Dense)              (None, 10)                490       \n",
            "=================================================================\n",
            "Total params: 1,341,834\n",
            "Trainable params: 1,341,834\n",
            "Non-trainable params: 0\n",
            "_________________________________________________________________\n"
          ],
          "name": "stdout"
        }
      ]
    },
    {
      "cell_type": "code",
      "metadata": {
        "id": "7y9O64Is4x8C",
        "colab_type": "code",
        "outputId": "1f126819-6a03-45ff-ff08-b873cf275805",
        "colab": {
          "base_uri": "https://localhost:8080/",
          "height": 272
        }
      },
      "source": [
        "#best model is fit on the training set\n",
        "\n",
        "model.fit(train_images, train_labels, epochs = 10, initial_epoch=3, validation_split = 0.15) "
      ],
      "execution_count": 0,
      "outputs": [
        {
          "output_type": "stream",
          "text": [
            "Epoch 4/10\n",
            "1594/1594 [==============================] - 6s 4ms/step - loss: 0.1609 - accuracy: 0.9407 - val_loss: 0.2232 - val_accuracy: 0.9236\n",
            "Epoch 5/10\n",
            "1594/1594 [==============================] - 6s 4ms/step - loss: 0.1204 - accuracy: 0.9557 - val_loss: 0.2474 - val_accuracy: 0.9188\n",
            "Epoch 6/10\n",
            "1594/1594 [==============================] - 6s 4ms/step - loss: 0.0868 - accuracy: 0.9678 - val_loss: 0.2581 - val_accuracy: 0.9212\n",
            "Epoch 7/10\n",
            "1594/1594 [==============================] - 6s 4ms/step - loss: 0.0645 - accuracy: 0.9766 - val_loss: 0.3136 - val_accuracy: 0.9211\n",
            "Epoch 8/10\n",
            "1594/1594 [==============================] - 6s 4ms/step - loss: 0.0496 - accuracy: 0.9825 - val_loss: 0.3610 - val_accuracy: 0.9203\n",
            "Epoch 9/10\n",
            "1594/1594 [==============================] - 6s 4ms/step - loss: 0.0384 - accuracy: 0.9861 - val_loss: 0.3934 - val_accuracy: 0.9137\n",
            "Epoch 10/10\n",
            "1594/1594 [==============================] - 6s 4ms/step - loss: 0.0313 - accuracy: 0.9891 - val_loss: 0.4095 - val_accuracy: 0.9160\n"
          ],
          "name": "stdout"
        },
        {
          "output_type": "execute_result",
          "data": {
            "text/plain": [
              "<tensorflow.python.keras.callbacks.History at 0x7f5fc5f78f98>"
            ]
          },
          "metadata": {
            "tags": []
          },
          "execution_count": 30
        }
      ]
    },
    {
      "cell_type": "code",
      "metadata": {
        "id": "BnD3xgsKBrmu",
        "colab_type": "code",
        "outputId": "30310fd1-6e72-400b-8201-f0a811c9ef6d",
        "colab": {
          "base_uri": "https://localhost:8080/",
          "height": 68
        }
      },
      "source": [
        "#predicting test accuracy\n",
        "\n",
        "score = model.evaluate(test_images, test_labels)\n",
        "print('Test loss:', score[0])\n",
        "\n",
        "print('Test accuracy:', score[1])"
      ],
      "execution_count": 0,
      "outputs": [
        {
          "output_type": "stream",
          "text": [
            "313/313 [==============================] - 1s 2ms/step - loss: 0.4791 - accuracy: 0.9069\n",
            "Test loss: 0.4790755808353424\n",
            "Test accuracy: 0.9068999886512756\n"
          ],
          "name": "stdout"
        }
      ]
    },
    {
      "cell_type": "code",
      "metadata": {
        "id": "-7evN6ohCnOd",
        "colab_type": "code",
        "colab": {}
      },
      "source": [
        ""
      ],
      "execution_count": 0,
      "outputs": []
    },
    {
      "cell_type": "markdown",
      "metadata": {
        "id": "rJ--v5g35McC",
        "colab_type": "text"
      },
      "source": [
        "**We are using Hyperband Instead of Randomsearch and building the model again to to improve accuracy**\n",
        "\n",
        "\n"
      ]
    },
    {
      "cell_type": "markdown",
      "metadata": {
        "id": "3mN47RHWS-hM",
        "colab_type": "text"
      },
      "source": [
        "#Hyperband is an optimized version of random search which uses early-stopping to speed up the hyperparameter tuning process. The main idea is to fit a large number of models for a small number of epochs and to only continue training for the models achieving the highest accuracy on the validation set. The max_epochs variable is the max number of epochs that a model can be trained for."
      ]
    },
    {
      "cell_type": "code",
      "metadata": {
        "id": "0qh7xifzak1g",
        "colab_type": "code",
        "colab": {
          "base_uri": "https://localhost:8080/",
          "height": 51
        },
        "outputId": "a74fbd15-cf87-4e28-cf21-64925136ad3b"
      },
      "source": [
        "\n",
        "# Hyperband is initiated and parameters are filled into it\n",
        "\n",
        "from kerastuner.tuners import Hyperband\n",
        "#HYPERBAND_MAX_EPOCHS = 10\n",
        "MAX_TRIALS = 5\n",
        "\n",
        "\n",
        "tuner = Hyperband(\n",
        "    build_model,\n",
        "    max_epochs=4,\n",
        "    objective='val_accuracy',\n",
        "    directory='hyperband',\n",
        "    project_name='cifar10'\n",
        ")"
      ],
      "execution_count": 31,
      "outputs": [
        {
          "output_type": "stream",
          "text": [
            "INFO:tensorflow:Reloading Oracle from existing project hyperband/cifar10/oracle.json\n",
            "INFO:tensorflow:Reloading Tuner from hyperband/cifar10/tuner0.json\n"
          ],
          "name": "stdout"
        }
      ]
    },
    {
      "cell_type": "code",
      "metadata": {
        "id": "dwK9XO0PDJaJ",
        "colab_type": "code",
        "outputId": "b1463171-69b5-438b-b656-3bd25ce29a6a",
        "colab": {
          "base_uri": "https://localhost:8080/",
          "height": 34
        }
      },
      "source": [
        "# starts building model\n",
        "\n",
        "tuner.search(train_images, train_labels, epochs = 3, validation_split = 0.12)"
      ],
      "execution_count": 32,
      "outputs": [
        {
          "output_type": "stream",
          "text": [
            "INFO:tensorflow:Oracle triggered exit\n"
          ],
          "name": "stdout"
        }
      ]
    },
    {
      "cell_type": "code",
      "metadata": {
        "id": "Rd7XXJH2DJQV",
        "colab_type": "code",
        "colab": {
          "base_uri": "https://localhost:8080/",
          "height": 139
        },
        "outputId": "b2219b1f-8ed3-4899-ae22-11acead33357"
      },
      "source": [
        "model_2 = tuner.get_best_models(1)[0]\n"
      ],
      "execution_count": 24,
      "outputs": [
        {
          "output_type": "stream",
          "text": [
            "WARNING:tensorflow:Unresolved object in checkpoint: (root).optimizer.iter\n",
            "WARNING:tensorflow:Unresolved object in checkpoint: (root).optimizer.beta_1\n",
            "WARNING:tensorflow:Unresolved object in checkpoint: (root).optimizer.beta_2\n",
            "WARNING:tensorflow:Unresolved object in checkpoint: (root).optimizer.decay\n",
            "WARNING:tensorflow:Unresolved object in checkpoint: (root).optimizer.learning_rate\n",
            "WARNING:tensorflow:A checkpoint was restored (e.g. tf.train.Checkpoint.restore or tf.keras.Model.load_weights) but not all checkpointed values were used. See above for specific issues. Use expect_partial() on the load status object, e.g. tf.train.Checkpoint.restore(...).expect_partial(), to silence these warnings, or use assert_consumed() to make the check explicit. See https://www.tensorflow.org/guide/checkpoint#loading_mechanics for details.\n"
          ],
          "name": "stdout"
        }
      ]
    },
    {
      "cell_type": "code",
      "metadata": {
        "id": "tXhwzBmfRZe-",
        "colab_type": "code",
        "colab": {
          "base_uri": "https://localhost:8080/",
          "height": 323
        },
        "outputId": "a65e5997-ce55-4f19-dcf7-11db8faf7491"
      },
      "source": [
        "model_2.summary()"
      ],
      "execution_count": 25,
      "outputs": [
        {
          "output_type": "stream",
          "text": [
            "Model: \"sequential\"\n",
            "_________________________________________________________________\n",
            "Layer (type)                 Output Shape              Param #   \n",
            "=================================================================\n",
            "conv2d (Conv2D)              (None, 26, 26, 48)        480       \n",
            "_________________________________________________________________\n",
            "conv2d_1 (Conv2D)            (None, 22, 22, 64)        76864     \n",
            "_________________________________________________________________\n",
            "flatten (Flatten)            (None, 30976)             0         \n",
            "_________________________________________________________________\n",
            "dense (Dense)                (None, 48)                1486896   \n",
            "_________________________________________________________________\n",
            "dense_1 (Dense)              (None, 10)                490       \n",
            "=================================================================\n",
            "Total params: 1,564,730\n",
            "Trainable params: 1,564,730\n",
            "Non-trainable params: 0\n",
            "_________________________________________________________________\n"
          ],
          "name": "stdout"
        }
      ]
    },
    {
      "cell_type": "code",
      "metadata": {
        "id": "p4YpRkunDJNj",
        "colab_type": "code",
        "colab": {
          "base_uri": "https://localhost:8080/",
          "height": 272
        },
        "outputId": "3ec2fa4a-d954-4d92-b25b-4ec82c48c784"
      },
      "source": [
        "#predicting test accuracy\n",
        "model_2.fit(train_images, train_labels, epochs = 10, initial_epoch=3, validation_split = 0.15) \n"
      ],
      "execution_count": 26,
      "outputs": [
        {
          "output_type": "stream",
          "text": [
            "Epoch 4/10\n",
            "1594/1594 [==============================] - 9s 5ms/step - loss: 0.3496 - accuracy: 0.8707 - val_loss: 0.4148 - val_accuracy: 0.8580\n",
            "Epoch 5/10\n",
            "1594/1594 [==============================] - 9s 5ms/step - loss: 0.3275 - accuracy: 0.8771 - val_loss: 0.3569 - val_accuracy: 0.8707\n",
            "Epoch 6/10\n",
            "1594/1594 [==============================] - 8s 5ms/step - loss: 0.3167 - accuracy: 0.8809 - val_loss: 0.3848 - val_accuracy: 0.8637\n",
            "Epoch 7/10\n",
            "1594/1594 [==============================] - 8s 5ms/step - loss: 0.3016 - accuracy: 0.8879 - val_loss: 0.4021 - val_accuracy: 0.8559\n",
            "Epoch 8/10\n",
            "1594/1594 [==============================] - 8s 5ms/step - loss: 0.2926 - accuracy: 0.8919 - val_loss: 0.4465 - val_accuracy: 0.8633\n",
            "Epoch 9/10\n",
            "1594/1594 [==============================] - 8s 5ms/step - loss: 0.2809 - accuracy: 0.8957 - val_loss: 0.4208 - val_accuracy: 0.8651\n",
            "Epoch 10/10\n",
            "1594/1594 [==============================] - 8s 5ms/step - loss: 0.2683 - accuracy: 0.9019 - val_loss: 0.4001 - val_accuracy: 0.8684\n"
          ],
          "name": "stdout"
        },
        {
          "output_type": "execute_result",
          "data": {
            "text/plain": [
              "<tensorflow.python.keras.callbacks.History at 0x7f1fa01c6860>"
            ]
          },
          "metadata": {
            "tags": []
          },
          "execution_count": 26
        }
      ]
    },
    {
      "cell_type": "code",
      "metadata": {
        "id": "0qbJKy11R5DY",
        "colab_type": "code",
        "colab": {
          "base_uri": "https://localhost:8080/",
          "height": 68
        },
        "outputId": "a3bbb40f-a888-4f1b-ba7b-03fdfa28dcac"
      },
      "source": [
        "score = model_2.evaluate(test_images, test_labels)\n",
        "print('Test loss:', score[0])\n",
        "\n",
        "print('Test accuracy:', score[1])"
      ],
      "execution_count": 28,
      "outputs": [
        {
          "output_type": "stream",
          "text": [
            "313/313 [==============================] - 1s 3ms/step - loss: 0.4424 - accuracy: 0.8626\n",
            "Test loss: 0.4423786997795105\n",
            "Test accuracy: 0.8626000285148621\n"
          ],
          "name": "stdout"
        }
      ]
    },
    {
      "cell_type": "code",
      "metadata": {
        "id": "kfbHnvSQR483",
        "colab_type": "code",
        "colab": {}
      },
      "source": [
        ""
      ],
      "execution_count": 0,
      "outputs": []
    }
  ]
}