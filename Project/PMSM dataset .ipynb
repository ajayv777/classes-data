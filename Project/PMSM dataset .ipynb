{
 "cells": [
  {
   "cell_type": "markdown",
   "metadata": {},
   "source": [
    "## Content\n",
    "All recordings are sampled at 2 Hz. The data set consists of multiple measurement sessions, \n",
    "which can be distinguished from each other by column \"profile_id\". \n",
    "A measurement session can be between one and six hours long.\n",
    "\n",
    "The motor is excited by hand-designed driving cycles denoting a reference motor speed \n",
    "and a reference torque. Currents in d/q-coordinates (columns \"id\" and iq\") \n",
    "and voltages in d/q-coordinates (columns \"ud\" and \"uq\") are a result of a \n",
    "standard control strategy trying to follow the reference speed and torque.\n",
    "Columns \"motor_speed\" and \"torque\" are the resulting quantities achieved by that strategy, derived from set currents and voltages.\n",
    "\n",
    "Most driving cycles denote random walks in the speed-torque-plane in order to imitate real world driving cycles to a more accurate degree than constant excitations and ramp-ups and -downs would.\n",
    "\n",
    "\n",
    "\n",
    "## Inspiration\n",
    "The most interesting target features are rotor temperature (\"pm\"), stator temperatures (\"stator_*\") and torque.\n",
    "Especially rotor temperature and torque are not reliably and economically measurable in a commercial vehicle.\n",
    "\n",
    "Being able to have strong estimators for the rotor temperature helps the automotive industry to manufacture motors with less material and enables control strategies to utilize the motor to its maximum capability.\n",
    "A precise torque estimate leads to more accurate and adequate control of the motor, reducing power losses and eventually heat build-up."
   ]
  },
  {
   "cell_type": "markdown",
   "metadata": {},
   "source": [
    "#### What is motor?\n",
    "\n",
    "a motor is a machine that converts electrical energy to mechanical energy.” In another words, the electrical energy is a “battery” and the mechanical energy is the “rotation.” To explain a motor physically, the well-known “Fleming’s left hand rule” is a good approach. When electric current flows through an electrical wire placed between two magnets facing with each other, it generates force.\n",
    "\n",
    "### Below you can picture of all three elements"
   ]
  },
  {
   "cell_type": "code",
   "execution_count": 158,
   "metadata": {},
   "outputs": [
    {
     "ename": "ConnectionError",
     "evalue": "HTTPSConnectionPool(host='www.yaskawa-global.com', port=443): Max retries exceeded with url: /wp-content/uploads/2019/01/left-hand_en2.png (Caused by NewConnectionError('<urllib3.connection.VerifiedHTTPSConnection object at 0x000000498AB6E708>: Failed to establish a new connection: [Errno 11001] getaddrinfo failed'))",
     "output_type": "error",
     "traceback": [
      "\u001b[1;31m---------------------------------------------------------------------------\u001b[0m",
      "\u001b[1;31mgaierror\u001b[0m                                  Traceback (most recent call last)",
      "\u001b[1;32m~\\Anaconda3\\lib\\site-packages\\urllib3\\connection.py\u001b[0m in \u001b[0;36m_new_conn\u001b[1;34m(self)\u001b[0m\n\u001b[0;32m    158\u001b[0m             conn = connection.create_connection(\n\u001b[1;32m--> 159\u001b[1;33m                 (self._dns_host, self.port), self.timeout, **extra_kw)\n\u001b[0m\u001b[0;32m    160\u001b[0m \u001b[1;33m\u001b[0m\u001b[0m\n",
      "\u001b[1;32m~\\Anaconda3\\lib\\site-packages\\urllib3\\util\\connection.py\u001b[0m in \u001b[0;36mcreate_connection\u001b[1;34m(address, timeout, source_address, socket_options)\u001b[0m\n\u001b[0;32m     56\u001b[0m \u001b[1;33m\u001b[0m\u001b[0m\n\u001b[1;32m---> 57\u001b[1;33m     \u001b[1;32mfor\u001b[0m \u001b[0mres\u001b[0m \u001b[1;32min\u001b[0m \u001b[0msocket\u001b[0m\u001b[1;33m.\u001b[0m\u001b[0mgetaddrinfo\u001b[0m\u001b[1;33m(\u001b[0m\u001b[0mhost\u001b[0m\u001b[1;33m,\u001b[0m \u001b[0mport\u001b[0m\u001b[1;33m,\u001b[0m \u001b[0mfamily\u001b[0m\u001b[1;33m,\u001b[0m \u001b[0msocket\u001b[0m\u001b[1;33m.\u001b[0m\u001b[0mSOCK_STREAM\u001b[0m\u001b[1;33m)\u001b[0m\u001b[1;33m:\u001b[0m\u001b[1;33m\u001b[0m\u001b[1;33m\u001b[0m\u001b[0m\n\u001b[0m\u001b[0;32m     58\u001b[0m         \u001b[0maf\u001b[0m\u001b[1;33m,\u001b[0m \u001b[0msocktype\u001b[0m\u001b[1;33m,\u001b[0m \u001b[0mproto\u001b[0m\u001b[1;33m,\u001b[0m \u001b[0mcanonname\u001b[0m\u001b[1;33m,\u001b[0m \u001b[0msa\u001b[0m \u001b[1;33m=\u001b[0m \u001b[0mres\u001b[0m\u001b[1;33m\u001b[0m\u001b[1;33m\u001b[0m\u001b[0m\n",
      "\u001b[1;32m~\\Anaconda3\\lib\\socket.py\u001b[0m in \u001b[0;36mgetaddrinfo\u001b[1;34m(host, port, family, type, proto, flags)\u001b[0m\n\u001b[0;32m    747\u001b[0m     \u001b[0maddrlist\u001b[0m \u001b[1;33m=\u001b[0m \u001b[1;33m[\u001b[0m\u001b[1;33m]\u001b[0m\u001b[1;33m\u001b[0m\u001b[1;33m\u001b[0m\u001b[0m\n\u001b[1;32m--> 748\u001b[1;33m     \u001b[1;32mfor\u001b[0m \u001b[0mres\u001b[0m \u001b[1;32min\u001b[0m \u001b[0m_socket\u001b[0m\u001b[1;33m.\u001b[0m\u001b[0mgetaddrinfo\u001b[0m\u001b[1;33m(\u001b[0m\u001b[0mhost\u001b[0m\u001b[1;33m,\u001b[0m \u001b[0mport\u001b[0m\u001b[1;33m,\u001b[0m \u001b[0mfamily\u001b[0m\u001b[1;33m,\u001b[0m \u001b[0mtype\u001b[0m\u001b[1;33m,\u001b[0m \u001b[0mproto\u001b[0m\u001b[1;33m,\u001b[0m \u001b[0mflags\u001b[0m\u001b[1;33m)\u001b[0m\u001b[1;33m:\u001b[0m\u001b[1;33m\u001b[0m\u001b[1;33m\u001b[0m\u001b[0m\n\u001b[0m\u001b[0;32m    749\u001b[0m         \u001b[0maf\u001b[0m\u001b[1;33m,\u001b[0m \u001b[0msocktype\u001b[0m\u001b[1;33m,\u001b[0m \u001b[0mproto\u001b[0m\u001b[1;33m,\u001b[0m \u001b[0mcanonname\u001b[0m\u001b[1;33m,\u001b[0m \u001b[0msa\u001b[0m \u001b[1;33m=\u001b[0m \u001b[0mres\u001b[0m\u001b[1;33m\u001b[0m\u001b[1;33m\u001b[0m\u001b[0m\n",
      "\u001b[1;31mgaierror\u001b[0m: [Errno 11001] getaddrinfo failed",
      "\nDuring handling of the above exception, another exception occurred:\n",
      "\u001b[1;31mNewConnectionError\u001b[0m                        Traceback (most recent call last)",
      "\u001b[1;32m~\\Anaconda3\\lib\\site-packages\\urllib3\\connectionpool.py\u001b[0m in \u001b[0;36murlopen\u001b[1;34m(self, method, url, body, headers, retries, redirect, assert_same_host, timeout, pool_timeout, release_conn, chunked, body_pos, **response_kw)\u001b[0m\n\u001b[0;32m    599\u001b[0m                                                   \u001b[0mbody\u001b[0m\u001b[1;33m=\u001b[0m\u001b[0mbody\u001b[0m\u001b[1;33m,\u001b[0m \u001b[0mheaders\u001b[0m\u001b[1;33m=\u001b[0m\u001b[0mheaders\u001b[0m\u001b[1;33m,\u001b[0m\u001b[1;33m\u001b[0m\u001b[1;33m\u001b[0m\u001b[0m\n\u001b[1;32m--> 600\u001b[1;33m                                                   chunked=chunked)\n\u001b[0m\u001b[0;32m    601\u001b[0m \u001b[1;33m\u001b[0m\u001b[0m\n",
      "\u001b[1;32m~\\Anaconda3\\lib\\site-packages\\urllib3\\connectionpool.py\u001b[0m in \u001b[0;36m_make_request\u001b[1;34m(self, conn, method, url, timeout, chunked, **httplib_request_kw)\u001b[0m\n\u001b[0;32m    342\u001b[0m         \u001b[1;32mtry\u001b[0m\u001b[1;33m:\u001b[0m\u001b[1;33m\u001b[0m\u001b[1;33m\u001b[0m\u001b[0m\n\u001b[1;32m--> 343\u001b[1;33m             \u001b[0mself\u001b[0m\u001b[1;33m.\u001b[0m\u001b[0m_validate_conn\u001b[0m\u001b[1;33m(\u001b[0m\u001b[0mconn\u001b[0m\u001b[1;33m)\u001b[0m\u001b[1;33m\u001b[0m\u001b[1;33m\u001b[0m\u001b[0m\n\u001b[0m\u001b[0;32m    344\u001b[0m         \u001b[1;32mexcept\u001b[0m \u001b[1;33m(\u001b[0m\u001b[0mSocketTimeout\u001b[0m\u001b[1;33m,\u001b[0m \u001b[0mBaseSSLError\u001b[0m\u001b[1;33m)\u001b[0m \u001b[1;32mas\u001b[0m \u001b[0me\u001b[0m\u001b[1;33m:\u001b[0m\u001b[1;33m\u001b[0m\u001b[1;33m\u001b[0m\u001b[0m\n",
      "\u001b[1;32m~\\Anaconda3\\lib\\site-packages\\urllib3\\connectionpool.py\u001b[0m in \u001b[0;36m_validate_conn\u001b[1;34m(self, conn)\u001b[0m\n\u001b[0;32m    838\u001b[0m         \u001b[1;32mif\u001b[0m \u001b[1;32mnot\u001b[0m \u001b[0mgetattr\u001b[0m\u001b[1;33m(\u001b[0m\u001b[0mconn\u001b[0m\u001b[1;33m,\u001b[0m \u001b[1;34m'sock'\u001b[0m\u001b[1;33m,\u001b[0m \u001b[1;32mNone\u001b[0m\u001b[1;33m)\u001b[0m\u001b[1;33m:\u001b[0m  \u001b[1;31m# AppEngine might not have  `.sock`\u001b[0m\u001b[1;33m\u001b[0m\u001b[1;33m\u001b[0m\u001b[0m\n\u001b[1;32m--> 839\u001b[1;33m             \u001b[0mconn\u001b[0m\u001b[1;33m.\u001b[0m\u001b[0mconnect\u001b[0m\u001b[1;33m(\u001b[0m\u001b[1;33m)\u001b[0m\u001b[1;33m\u001b[0m\u001b[1;33m\u001b[0m\u001b[0m\n\u001b[0m\u001b[0;32m    840\u001b[0m \u001b[1;33m\u001b[0m\u001b[0m\n",
      "\u001b[1;32m~\\Anaconda3\\lib\\site-packages\\urllib3\\connection.py\u001b[0m in \u001b[0;36mconnect\u001b[1;34m(self)\u001b[0m\n\u001b[0;32m    300\u001b[0m         \u001b[1;31m# Add certificate verification\u001b[0m\u001b[1;33m\u001b[0m\u001b[1;33m\u001b[0m\u001b[1;33m\u001b[0m\u001b[0m\n\u001b[1;32m--> 301\u001b[1;33m         \u001b[0mconn\u001b[0m \u001b[1;33m=\u001b[0m \u001b[0mself\u001b[0m\u001b[1;33m.\u001b[0m\u001b[0m_new_conn\u001b[0m\u001b[1;33m(\u001b[0m\u001b[1;33m)\u001b[0m\u001b[1;33m\u001b[0m\u001b[1;33m\u001b[0m\u001b[0m\n\u001b[0m\u001b[0;32m    302\u001b[0m         \u001b[0mhostname\u001b[0m \u001b[1;33m=\u001b[0m \u001b[0mself\u001b[0m\u001b[1;33m.\u001b[0m\u001b[0mhost\u001b[0m\u001b[1;33m\u001b[0m\u001b[1;33m\u001b[0m\u001b[0m\n",
      "\u001b[1;32m~\\Anaconda3\\lib\\site-packages\\urllib3\\connection.py\u001b[0m in \u001b[0;36m_new_conn\u001b[1;34m(self)\u001b[0m\n\u001b[0;32m    167\u001b[0m             raise NewConnectionError(\n\u001b[1;32m--> 168\u001b[1;33m                 self, \"Failed to establish a new connection: %s\" % e)\n\u001b[0m\u001b[0;32m    169\u001b[0m \u001b[1;33m\u001b[0m\u001b[0m\n",
      "\u001b[1;31mNewConnectionError\u001b[0m: <urllib3.connection.VerifiedHTTPSConnection object at 0x000000498AB6E708>: Failed to establish a new connection: [Errno 11001] getaddrinfo failed",
      "\nDuring handling of the above exception, another exception occurred:\n",
      "\u001b[1;31mMaxRetryError\u001b[0m                             Traceback (most recent call last)",
      "\u001b[1;32m~\\Anaconda3\\lib\\site-packages\\requests\\adapters.py\u001b[0m in \u001b[0;36msend\u001b[1;34m(self, request, stream, timeout, verify, cert, proxies)\u001b[0m\n\u001b[0;32m    448\u001b[0m                     \u001b[0mretries\u001b[0m\u001b[1;33m=\u001b[0m\u001b[0mself\u001b[0m\u001b[1;33m.\u001b[0m\u001b[0mmax_retries\u001b[0m\u001b[1;33m,\u001b[0m\u001b[1;33m\u001b[0m\u001b[1;33m\u001b[0m\u001b[0m\n\u001b[1;32m--> 449\u001b[1;33m                     \u001b[0mtimeout\u001b[0m\u001b[1;33m=\u001b[0m\u001b[0mtimeout\u001b[0m\u001b[1;33m\u001b[0m\u001b[1;33m\u001b[0m\u001b[0m\n\u001b[0m\u001b[0;32m    450\u001b[0m                 )\n",
      "\u001b[1;32m~\\Anaconda3\\lib\\site-packages\\urllib3\\connectionpool.py\u001b[0m in \u001b[0;36murlopen\u001b[1;34m(self, method, url, body, headers, retries, redirect, assert_same_host, timeout, pool_timeout, release_conn, chunked, body_pos, **response_kw)\u001b[0m\n\u001b[0;32m    637\u001b[0m             retries = retries.increment(method, url, error=e, _pool=self,\n\u001b[1;32m--> 638\u001b[1;33m                                         _stacktrace=sys.exc_info()[2])\n\u001b[0m\u001b[0;32m    639\u001b[0m             \u001b[0mretries\u001b[0m\u001b[1;33m.\u001b[0m\u001b[0msleep\u001b[0m\u001b[1;33m(\u001b[0m\u001b[1;33m)\u001b[0m\u001b[1;33m\u001b[0m\u001b[1;33m\u001b[0m\u001b[0m\n",
      "\u001b[1;32m~\\Anaconda3\\lib\\site-packages\\urllib3\\util\\retry.py\u001b[0m in \u001b[0;36mincrement\u001b[1;34m(self, method, url, response, error, _pool, _stacktrace)\u001b[0m\n\u001b[0;32m    398\u001b[0m         \u001b[1;32mif\u001b[0m \u001b[0mnew_retry\u001b[0m\u001b[1;33m.\u001b[0m\u001b[0mis_exhausted\u001b[0m\u001b[1;33m(\u001b[0m\u001b[1;33m)\u001b[0m\u001b[1;33m:\u001b[0m\u001b[1;33m\u001b[0m\u001b[1;33m\u001b[0m\u001b[0m\n\u001b[1;32m--> 399\u001b[1;33m             \u001b[1;32mraise\u001b[0m \u001b[0mMaxRetryError\u001b[0m\u001b[1;33m(\u001b[0m\u001b[0m_pool\u001b[0m\u001b[1;33m,\u001b[0m \u001b[0murl\u001b[0m\u001b[1;33m,\u001b[0m \u001b[0merror\u001b[0m \u001b[1;32mor\u001b[0m \u001b[0mResponseError\u001b[0m\u001b[1;33m(\u001b[0m\u001b[0mcause\u001b[0m\u001b[1;33m)\u001b[0m\u001b[1;33m)\u001b[0m\u001b[1;33m\u001b[0m\u001b[1;33m\u001b[0m\u001b[0m\n\u001b[0m\u001b[0;32m    400\u001b[0m \u001b[1;33m\u001b[0m\u001b[0m\n",
      "\u001b[1;31mMaxRetryError\u001b[0m: HTTPSConnectionPool(host='www.yaskawa-global.com', port=443): Max retries exceeded with url: /wp-content/uploads/2019/01/left-hand_en2.png (Caused by NewConnectionError('<urllib3.connection.VerifiedHTTPSConnection object at 0x000000498AB6E708>: Failed to establish a new connection: [Errno 11001] getaddrinfo failed'))",
      "\nDuring handling of the above exception, another exception occurred:\n",
      "\u001b[1;31mConnectionError\u001b[0m                           Traceback (most recent call last)",
      "\u001b[1;32m<ipython-input-158-5c9afdf09d23>\u001b[0m in \u001b[0;36m<module>\u001b[1;34m\u001b[0m\n\u001b[0;32m      1\u001b[0m \u001b[1;32mimport\u001b[0m \u001b[0mrequests\u001b[0m\u001b[1;33m\u001b[0m\u001b[1;33m\u001b[0m\u001b[0m\n\u001b[0;32m      2\u001b[0m \u001b[1;32mfrom\u001b[0m \u001b[0mipywidgets\u001b[0m \u001b[1;32mimport\u001b[0m \u001b[0mImage\u001b[0m\u001b[1;33m\u001b[0m\u001b[1;33m\u001b[0m\u001b[0m\n\u001b[1;32m----> 3\u001b[1;33m \u001b[0mImage\u001b[0m\u001b[1;33m(\u001b[0m\u001b[0mvalue\u001b[0m\u001b[1;33m=\u001b[0m\u001b[0mrequests\u001b[0m\u001b[1;33m.\u001b[0m\u001b[0mget\u001b[0m\u001b[1;33m(\u001b[0m\u001b[1;34m'https://www.yaskawa-global.com/wp-content/uploads/2019/01/left-hand_en2.png'\u001b[0m\u001b[1;33m)\u001b[0m\u001b[1;33m.\u001b[0m\u001b[0mcontent\u001b[0m\u001b[1;33m)\u001b[0m\u001b[1;33m\u001b[0m\u001b[1;33m\u001b[0m\u001b[0m\n\u001b[0m",
      "\u001b[1;32m~\\Anaconda3\\lib\\site-packages\\requests\\api.py\u001b[0m in \u001b[0;36mget\u001b[1;34m(url, params, **kwargs)\u001b[0m\n\u001b[0;32m     73\u001b[0m \u001b[1;33m\u001b[0m\u001b[0m\n\u001b[0;32m     74\u001b[0m     \u001b[0mkwargs\u001b[0m\u001b[1;33m.\u001b[0m\u001b[0msetdefault\u001b[0m\u001b[1;33m(\u001b[0m\u001b[1;34m'allow_redirects'\u001b[0m\u001b[1;33m,\u001b[0m \u001b[1;32mTrue\u001b[0m\u001b[1;33m)\u001b[0m\u001b[1;33m\u001b[0m\u001b[1;33m\u001b[0m\u001b[0m\n\u001b[1;32m---> 75\u001b[1;33m     \u001b[1;32mreturn\u001b[0m \u001b[0mrequest\u001b[0m\u001b[1;33m(\u001b[0m\u001b[1;34m'get'\u001b[0m\u001b[1;33m,\u001b[0m \u001b[0murl\u001b[0m\u001b[1;33m,\u001b[0m \u001b[0mparams\u001b[0m\u001b[1;33m=\u001b[0m\u001b[0mparams\u001b[0m\u001b[1;33m,\u001b[0m \u001b[1;33m**\u001b[0m\u001b[0mkwargs\u001b[0m\u001b[1;33m)\u001b[0m\u001b[1;33m\u001b[0m\u001b[1;33m\u001b[0m\u001b[0m\n\u001b[0m\u001b[0;32m     76\u001b[0m \u001b[1;33m\u001b[0m\u001b[0m\n\u001b[0;32m     77\u001b[0m \u001b[1;33m\u001b[0m\u001b[0m\n",
      "\u001b[1;32m~\\Anaconda3\\lib\\site-packages\\requests\\api.py\u001b[0m in \u001b[0;36mrequest\u001b[1;34m(method, url, **kwargs)\u001b[0m\n\u001b[0;32m     58\u001b[0m     \u001b[1;31m# cases, and look like a memory leak in others.\u001b[0m\u001b[1;33m\u001b[0m\u001b[1;33m\u001b[0m\u001b[1;33m\u001b[0m\u001b[0m\n\u001b[0;32m     59\u001b[0m     \u001b[1;32mwith\u001b[0m \u001b[0msessions\u001b[0m\u001b[1;33m.\u001b[0m\u001b[0mSession\u001b[0m\u001b[1;33m(\u001b[0m\u001b[1;33m)\u001b[0m \u001b[1;32mas\u001b[0m \u001b[0msession\u001b[0m\u001b[1;33m:\u001b[0m\u001b[1;33m\u001b[0m\u001b[1;33m\u001b[0m\u001b[0m\n\u001b[1;32m---> 60\u001b[1;33m         \u001b[1;32mreturn\u001b[0m \u001b[0msession\u001b[0m\u001b[1;33m.\u001b[0m\u001b[0mrequest\u001b[0m\u001b[1;33m(\u001b[0m\u001b[0mmethod\u001b[0m\u001b[1;33m=\u001b[0m\u001b[0mmethod\u001b[0m\u001b[1;33m,\u001b[0m \u001b[0murl\u001b[0m\u001b[1;33m=\u001b[0m\u001b[0murl\u001b[0m\u001b[1;33m,\u001b[0m \u001b[1;33m**\u001b[0m\u001b[0mkwargs\u001b[0m\u001b[1;33m)\u001b[0m\u001b[1;33m\u001b[0m\u001b[1;33m\u001b[0m\u001b[0m\n\u001b[0m\u001b[0;32m     61\u001b[0m \u001b[1;33m\u001b[0m\u001b[0m\n\u001b[0;32m     62\u001b[0m \u001b[1;33m\u001b[0m\u001b[0m\n",
      "\u001b[1;32m~\\Anaconda3\\lib\\site-packages\\requests\\sessions.py\u001b[0m in \u001b[0;36mrequest\u001b[1;34m(self, method, url, params, data, headers, cookies, files, auth, timeout, allow_redirects, proxies, hooks, stream, verify, cert, json)\u001b[0m\n\u001b[0;32m    531\u001b[0m         }\n\u001b[0;32m    532\u001b[0m         \u001b[0msend_kwargs\u001b[0m\u001b[1;33m.\u001b[0m\u001b[0mupdate\u001b[0m\u001b[1;33m(\u001b[0m\u001b[0msettings\u001b[0m\u001b[1;33m)\u001b[0m\u001b[1;33m\u001b[0m\u001b[1;33m\u001b[0m\u001b[0m\n\u001b[1;32m--> 533\u001b[1;33m         \u001b[0mresp\u001b[0m \u001b[1;33m=\u001b[0m \u001b[0mself\u001b[0m\u001b[1;33m.\u001b[0m\u001b[0msend\u001b[0m\u001b[1;33m(\u001b[0m\u001b[0mprep\u001b[0m\u001b[1;33m,\u001b[0m \u001b[1;33m**\u001b[0m\u001b[0msend_kwargs\u001b[0m\u001b[1;33m)\u001b[0m\u001b[1;33m\u001b[0m\u001b[1;33m\u001b[0m\u001b[0m\n\u001b[0m\u001b[0;32m    534\u001b[0m \u001b[1;33m\u001b[0m\u001b[0m\n\u001b[0;32m    535\u001b[0m         \u001b[1;32mreturn\u001b[0m \u001b[0mresp\u001b[0m\u001b[1;33m\u001b[0m\u001b[1;33m\u001b[0m\u001b[0m\n",
      "\u001b[1;32m~\\Anaconda3\\lib\\site-packages\\requests\\sessions.py\u001b[0m in \u001b[0;36msend\u001b[1;34m(self, request, **kwargs)\u001b[0m\n\u001b[0;32m    644\u001b[0m \u001b[1;33m\u001b[0m\u001b[0m\n\u001b[0;32m    645\u001b[0m         \u001b[1;31m# Send the request\u001b[0m\u001b[1;33m\u001b[0m\u001b[1;33m\u001b[0m\u001b[1;33m\u001b[0m\u001b[0m\n\u001b[1;32m--> 646\u001b[1;33m         \u001b[0mr\u001b[0m \u001b[1;33m=\u001b[0m \u001b[0madapter\u001b[0m\u001b[1;33m.\u001b[0m\u001b[0msend\u001b[0m\u001b[1;33m(\u001b[0m\u001b[0mrequest\u001b[0m\u001b[1;33m,\u001b[0m \u001b[1;33m**\u001b[0m\u001b[0mkwargs\u001b[0m\u001b[1;33m)\u001b[0m\u001b[1;33m\u001b[0m\u001b[1;33m\u001b[0m\u001b[0m\n\u001b[0m\u001b[0;32m    647\u001b[0m \u001b[1;33m\u001b[0m\u001b[0m\n\u001b[0;32m    648\u001b[0m         \u001b[1;31m# Total elapsed time of the request (approximately)\u001b[0m\u001b[1;33m\u001b[0m\u001b[1;33m\u001b[0m\u001b[1;33m\u001b[0m\u001b[0m\n",
      "\u001b[1;32m~\\Anaconda3\\lib\\site-packages\\requests\\adapters.py\u001b[0m in \u001b[0;36msend\u001b[1;34m(self, request, stream, timeout, verify, cert, proxies)\u001b[0m\n\u001b[0;32m    514\u001b[0m                 \u001b[1;32mraise\u001b[0m \u001b[0mSSLError\u001b[0m\u001b[1;33m(\u001b[0m\u001b[0me\u001b[0m\u001b[1;33m,\u001b[0m \u001b[0mrequest\u001b[0m\u001b[1;33m=\u001b[0m\u001b[0mrequest\u001b[0m\u001b[1;33m)\u001b[0m\u001b[1;33m\u001b[0m\u001b[1;33m\u001b[0m\u001b[0m\n\u001b[0;32m    515\u001b[0m \u001b[1;33m\u001b[0m\u001b[0m\n\u001b[1;32m--> 516\u001b[1;33m             \u001b[1;32mraise\u001b[0m \u001b[0mConnectionError\u001b[0m\u001b[1;33m(\u001b[0m\u001b[0me\u001b[0m\u001b[1;33m,\u001b[0m \u001b[0mrequest\u001b[0m\u001b[1;33m=\u001b[0m\u001b[0mrequest\u001b[0m\u001b[1;33m)\u001b[0m\u001b[1;33m\u001b[0m\u001b[1;33m\u001b[0m\u001b[0m\n\u001b[0m\u001b[0;32m    517\u001b[0m \u001b[1;33m\u001b[0m\u001b[0m\n\u001b[0;32m    518\u001b[0m         \u001b[1;32mexcept\u001b[0m \u001b[0mClosedPoolError\u001b[0m \u001b[1;32mas\u001b[0m \u001b[0me\u001b[0m\u001b[1;33m:\u001b[0m\u001b[1;33m\u001b[0m\u001b[1;33m\u001b[0m\u001b[0m\n",
      "\u001b[1;31mConnectionError\u001b[0m: HTTPSConnectionPool(host='www.yaskawa-global.com', port=443): Max retries exceeded with url: /wp-content/uploads/2019/01/left-hand_en2.png (Caused by NewConnectionError('<urllib3.connection.VerifiedHTTPSConnection object at 0x000000498AB6E708>: Failed to establish a new connection: [Errno 11001] getaddrinfo failed'))"
     ]
    }
   ],
   "source": [
    "import requests\n",
    "from ipywidgets import Image\n",
    "Image(value=requests.get('https://www.yaskawa-global.com/wp-content/uploads/2019/01/left-hand_en2.png').content)"
   ]
  },
  {
   "cell_type": "markdown",
   "metadata": {},
   "source": [
    "https://youtu.be/Vk2jDXxZIhs  working of synchronous motor."
   ]
  },
  {
   "cell_type": "markdown",
   "metadata": {},
   "source": [
    "### HOw torque is produced?\n",
    "The torque of a synchronous motor is produced by the phase difference between the rotating magnetic field and the rotor. The torque is low when there is a small phase difference between the rotating rotor and the rotating magnetic field. The torque increases as the phase difference increases, which is due to adding additional load on the motor. The torque will reach a maximum when this phase difference approaches 90 degrees. Therefore, a synchronous motor can produce suitable torque under variable load conditions. The magnitude of the maximum torque is regulated by controlling the peak magnitude of the input current. If the torque is required to be varied independently of load, vector control (also referred to as field-orientated control) can be applied."
   ]
  },
  {
   "cell_type": "markdown",
   "metadata": {},
   "source": [
    "### How is stator temperature measured?\n",
    "the stator winding temperature is calculated through the strict linear relationship between metal resistance and its temperature. The analysis and experimental results has proved that the method is feasible for monitoring stator winding temperature of PMSM."
   ]
  },
  {
   "cell_type": "markdown",
   "metadata": {},
   "source": [
    "### Why it is important to measure rotor temperature?\n",
    "High-speed permanent magnet synchronous motor (PMSM) has many advantages such as high rotating speed, small volume, high efficiency, high power, and high torque density, and it has been widely used in many industrial fields. Since the excitation magnetic field is provided by permanent magnet, the performance of PMSM is highly dependent on the permanent magnet (PM) temperature; irreversible demagnetization will occur when the PM temperature rises to a certain value [1, 2]. Therefore, it is important to detect the temperature of PMs in rotor to prevent the performance degradation of PMSM."
   ]
  },
  {
   "cell_type": "markdown",
   "metadata": {},
   "source": [
    "### Methods for detecting Rotor temperature?\n",
    "Methods for detecting PM temperature are mainly divided into two types: direct detection method and indirect estimation method [3, 4]. The direct detection method needs to install temperature sensors into the motor, and the sensors include contact sensors such as thermistors or thermocouples and noncontact sensors like infrared sensors [5, 6]. The advantage of the direct detection method is that temperature data are easily obtained, and the obtained data have small error. On the other hand, the direct detection method requires temperature sensors and extra complicated data transmission device [7–10], which will increase the total cost of system and reduce the robustness of control system of PMSM.\n",
    "\n",
    "Another method is to estimate the PM temperature according to the parameters relating to temperature. Through consulting different literatures, there are three main methods for estimating the PM temperature, including thermal model, high-frequency signal injection, and back electromotive force (BEMF) [4, 5, 7, 11, 12]. The thermal model includes the finite element model (FEM) and lumped parameter model (LPM), which can provide very detailed temperature distribution of PMSM. But this method requires precise knowledge of the machine geometry, materials, and cooling system [13–15]. Furthermore, the temperature has impact on the properties of the materials, just like winding resistance, magnet remanence, and intrinsic coercivity, and the model needs to be appropriately adjusted for different motors"
   ]
  },
  {
   "cell_type": "markdown",
   "metadata": {},
   "source": [
    "### T = F × r × sinθ\n",
    "#### T = torque r = radius\n",
    "### F = linear force\n",
    "\n",
    "\n",
    "## If Fs, Fr and λ be the stator field strength, rotor field strength and angle between Fs & Fr, then the torque is given as\n",
    "\n",
    "#### Te = FsFrSinλ\n",
    "\n",
    "\n",
    "IMage of SYNCHronous motor\n",
    "\n",
    "https://www.dfliq.net/wp-content/uploads/2015/09/electrical-motor-img.jpg "
   ]
  },
  {
   "cell_type": "code",
   "execution_count": null,
   "metadata": {},
   "outputs": [],
   "source": []
  },
  {
   "cell_type": "code",
   "execution_count": null,
   "metadata": {},
   "outputs": [],
   "source": []
  },
  {
   "cell_type": "code",
   "execution_count": null,
   "metadata": {},
   "outputs": [],
   "source": []
  },
  {
   "cell_type": "code",
   "execution_count": null,
   "metadata": {},
   "outputs": [],
   "source": []
  },
  {
   "cell_type": "code",
   "execution_count": null,
   "metadata": {},
   "outputs": [],
   "source": []
  },
  {
   "cell_type": "code",
   "execution_count": 1,
   "metadata": {},
   "outputs": [
    {
     "name": "stderr",
     "output_type": "stream",
     "text": [
      "C:\\Users\\ajay\\Anaconda3\\lib\\site-packages\\statsmodels\\tools\\_testing.py:19: FutureWarning: pandas.util.testing is deprecated. Use the functions in the public API at pandas.testing instead.\n",
      "  import pandas.util.testing as tm\n"
     ]
    }
   ],
   "source": [
    "import pandas as pd\n",
    "import numpy as np\n",
    "import matplotlib.pyplot as plt\n",
    "import seaborn as sns"
   ]
  },
  {
   "cell_type": "code",
   "execution_count": 2,
   "metadata": {},
   "outputs": [
    {
     "data": {
      "text/html": [
       "<div>\n",
       "<style scoped>\n",
       "    .dataframe tbody tr th:only-of-type {\n",
       "        vertical-align: middle;\n",
       "    }\n",
       "\n",
       "    .dataframe tbody tr th {\n",
       "        vertical-align: top;\n",
       "    }\n",
       "\n",
       "    .dataframe thead th {\n",
       "        text-align: right;\n",
       "    }\n",
       "</style>\n",
       "<table border=\"1\" class=\"dataframe\">\n",
       "  <thead>\n",
       "    <tr style=\"text-align: right;\">\n",
       "      <th></th>\n",
       "      <th>ambient</th>\n",
       "      <th>coolant</th>\n",
       "      <th>u_d</th>\n",
       "      <th>u_q</th>\n",
       "      <th>motor_speed</th>\n",
       "      <th>torque</th>\n",
       "      <th>i_d</th>\n",
       "      <th>i_q</th>\n",
       "      <th>pm</th>\n",
       "      <th>stator_yoke</th>\n",
       "      <th>stator_tooth</th>\n",
       "      <th>stator_winding</th>\n",
       "      <th>profile_id</th>\n",
       "    </tr>\n",
       "  </thead>\n",
       "  <tbody>\n",
       "    <tr>\n",
       "      <th>0</th>\n",
       "      <td>-0.752143</td>\n",
       "      <td>-1.118446</td>\n",
       "      <td>0.327935</td>\n",
       "      <td>-1.297858</td>\n",
       "      <td>-1.222428</td>\n",
       "      <td>-0.250182</td>\n",
       "      <td>1.029572</td>\n",
       "      <td>-0.245860</td>\n",
       "      <td>-2.522071</td>\n",
       "      <td>-1.831422</td>\n",
       "      <td>-2.066143</td>\n",
       "      <td>-2.018033</td>\n",
       "      <td>4</td>\n",
       "    </tr>\n",
       "    <tr>\n",
       "      <th>1</th>\n",
       "      <td>-0.771263</td>\n",
       "      <td>-1.117021</td>\n",
       "      <td>0.329665</td>\n",
       "      <td>-1.297686</td>\n",
       "      <td>-1.222429</td>\n",
       "      <td>-0.249133</td>\n",
       "      <td>1.029509</td>\n",
       "      <td>-0.245832</td>\n",
       "      <td>-2.522418</td>\n",
       "      <td>-1.830969</td>\n",
       "      <td>-2.064859</td>\n",
       "      <td>-2.017631</td>\n",
       "      <td>4</td>\n",
       "    </tr>\n",
       "    <tr>\n",
       "      <th>2</th>\n",
       "      <td>-0.782892</td>\n",
       "      <td>-1.116681</td>\n",
       "      <td>0.332771</td>\n",
       "      <td>-1.301822</td>\n",
       "      <td>-1.222428</td>\n",
       "      <td>-0.249431</td>\n",
       "      <td>1.029448</td>\n",
       "      <td>-0.245818</td>\n",
       "      <td>-2.522673</td>\n",
       "      <td>-1.830400</td>\n",
       "      <td>-2.064073</td>\n",
       "      <td>-2.017343</td>\n",
       "      <td>4</td>\n",
       "    </tr>\n",
       "    <tr>\n",
       "      <th>3</th>\n",
       "      <td>-0.780935</td>\n",
       "      <td>-1.116764</td>\n",
       "      <td>0.333700</td>\n",
       "      <td>-1.301852</td>\n",
       "      <td>-1.222430</td>\n",
       "      <td>-0.248636</td>\n",
       "      <td>1.032845</td>\n",
       "      <td>-0.246955</td>\n",
       "      <td>-2.521639</td>\n",
       "      <td>-1.830333</td>\n",
       "      <td>-2.063137</td>\n",
       "      <td>-2.017632</td>\n",
       "      <td>4</td>\n",
       "    </tr>\n",
       "    <tr>\n",
       "      <th>4</th>\n",
       "      <td>-0.774043</td>\n",
       "      <td>-1.116775</td>\n",
       "      <td>0.335206</td>\n",
       "      <td>-1.303118</td>\n",
       "      <td>-1.222429</td>\n",
       "      <td>-0.248701</td>\n",
       "      <td>1.031807</td>\n",
       "      <td>-0.246610</td>\n",
       "      <td>-2.521900</td>\n",
       "      <td>-1.830498</td>\n",
       "      <td>-2.062795</td>\n",
       "      <td>-2.018145</td>\n",
       "      <td>4</td>\n",
       "    </tr>\n",
       "  </tbody>\n",
       "</table>\n",
       "</div>"
      ],
      "text/plain": [
       "    ambient   coolant       u_d       u_q  motor_speed    torque       i_d  \\\n",
       "0 -0.752143 -1.118446  0.327935 -1.297858    -1.222428 -0.250182  1.029572   \n",
       "1 -0.771263 -1.117021  0.329665 -1.297686    -1.222429 -0.249133  1.029509   \n",
       "2 -0.782892 -1.116681  0.332771 -1.301822    -1.222428 -0.249431  1.029448   \n",
       "3 -0.780935 -1.116764  0.333700 -1.301852    -1.222430 -0.248636  1.032845   \n",
       "4 -0.774043 -1.116775  0.335206 -1.303118    -1.222429 -0.248701  1.031807   \n",
       "\n",
       "        i_q        pm  stator_yoke  stator_tooth  stator_winding  profile_id  \n",
       "0 -0.245860 -2.522071    -1.831422     -2.066143       -2.018033           4  \n",
       "1 -0.245832 -2.522418    -1.830969     -2.064859       -2.017631           4  \n",
       "2 -0.245818 -2.522673    -1.830400     -2.064073       -2.017343           4  \n",
       "3 -0.246955 -2.521639    -1.830333     -2.063137       -2.017632           4  \n",
       "4 -0.246610 -2.521900    -1.830498     -2.062795       -2.018145           4  "
      ]
     },
     "execution_count": 2,
     "metadata": {},
     "output_type": "execute_result"
    }
   ],
   "source": [
    "df = pd.read_csv(r\"F:\\deep learning\\my dataset\\236410_504254_bundle_archive\\pmsm_temperature_data.csv\")\n",
    "df.head(5)"
   ]
  },
  {
   "cell_type": "code",
   "execution_count": 3,
   "metadata": {},
   "outputs": [],
   "source": [
    "#changing or updatin column name from pm to rotor tempearture\n",
    "\n",
    "df.rename(columns={'pm':\"rotor_temp\"}, inplace = True) "
   ]
  },
  {
   "cell_type": "code",
   "execution_count": 4,
   "metadata": {},
   "outputs": [
    {
     "data": {
      "text/plain": [
       "Index(['ambient', 'coolant', 'u_d', 'u_q', 'motor_speed', 'torque', 'i_d',\n",
       "       'i_q', 'rotor_temp', 'stator_yoke', 'stator_tooth', 'stator_winding',\n",
       "       'profile_id'],\n",
       "      dtype='object')"
      ]
     },
     "execution_count": 4,
     "metadata": {},
     "output_type": "execute_result"
    }
   ],
   "source": [
    "df.columns"
   ]
  },
  {
   "cell_type": "code",
   "execution_count": null,
   "metadata": {},
   "outputs": [],
   "source": []
  },
  {
   "cell_type": "code",
   "execution_count": null,
   "metadata": {},
   "outputs": [],
   "source": []
  },
  {
   "cell_type": "code",
   "execution_count": 5,
   "metadata": {},
   "outputs": [
    {
     "data": {
      "text/html": [
       "<div>\n",
       "<style scoped>\n",
       "    .dataframe tbody tr th:only-of-type {\n",
       "        vertical-align: middle;\n",
       "    }\n",
       "\n",
       "    .dataframe tbody tr th {\n",
       "        vertical-align: top;\n",
       "    }\n",
       "\n",
       "    .dataframe thead th {\n",
       "        text-align: right;\n",
       "    }\n",
       "</style>\n",
       "<table border=\"1\" class=\"dataframe\">\n",
       "  <thead>\n",
       "    <tr style=\"text-align: right;\">\n",
       "      <th></th>\n",
       "      <th>ambient</th>\n",
       "      <th>coolant</th>\n",
       "      <th>u_d</th>\n",
       "      <th>u_q</th>\n",
       "      <th>motor_speed</th>\n",
       "      <th>torque</th>\n",
       "      <th>i_d</th>\n",
       "      <th>i_q</th>\n",
       "      <th>rotor_temp</th>\n",
       "      <th>stator_yoke</th>\n",
       "      <th>stator_tooth</th>\n",
       "      <th>stator_winding</th>\n",
       "    </tr>\n",
       "  </thead>\n",
       "  <tbody>\n",
       "    <tr>\n",
       "      <th>0</th>\n",
       "      <td>-0.752143</td>\n",
       "      <td>-1.118446</td>\n",
       "      <td>0.327935</td>\n",
       "      <td>-1.297858</td>\n",
       "      <td>-1.222428</td>\n",
       "      <td>-0.250182</td>\n",
       "      <td>1.029572</td>\n",
       "      <td>-0.245860</td>\n",
       "      <td>-2.522071</td>\n",
       "      <td>-1.831422</td>\n",
       "      <td>-2.066143</td>\n",
       "      <td>-2.018033</td>\n",
       "    </tr>\n",
       "    <tr>\n",
       "      <th>1</th>\n",
       "      <td>-0.771263</td>\n",
       "      <td>-1.117021</td>\n",
       "      <td>0.329665</td>\n",
       "      <td>-1.297686</td>\n",
       "      <td>-1.222429</td>\n",
       "      <td>-0.249133</td>\n",
       "      <td>1.029509</td>\n",
       "      <td>-0.245832</td>\n",
       "      <td>-2.522418</td>\n",
       "      <td>-1.830969</td>\n",
       "      <td>-2.064859</td>\n",
       "      <td>-2.017631</td>\n",
       "    </tr>\n",
       "    <tr>\n",
       "      <th>2</th>\n",
       "      <td>-0.782892</td>\n",
       "      <td>-1.116681</td>\n",
       "      <td>0.332771</td>\n",
       "      <td>-1.301822</td>\n",
       "      <td>-1.222428</td>\n",
       "      <td>-0.249431</td>\n",
       "      <td>1.029448</td>\n",
       "      <td>-0.245818</td>\n",
       "      <td>-2.522673</td>\n",
       "      <td>-1.830400</td>\n",
       "      <td>-2.064073</td>\n",
       "      <td>-2.017343</td>\n",
       "    </tr>\n",
       "    <tr>\n",
       "      <th>3</th>\n",
       "      <td>-0.780935</td>\n",
       "      <td>-1.116764</td>\n",
       "      <td>0.333700</td>\n",
       "      <td>-1.301852</td>\n",
       "      <td>-1.222430</td>\n",
       "      <td>-0.248636</td>\n",
       "      <td>1.032845</td>\n",
       "      <td>-0.246955</td>\n",
       "      <td>-2.521639</td>\n",
       "      <td>-1.830333</td>\n",
       "      <td>-2.063137</td>\n",
       "      <td>-2.017632</td>\n",
       "    </tr>\n",
       "  </tbody>\n",
       "</table>\n",
       "</div>"
      ],
      "text/plain": [
       "    ambient   coolant       u_d       u_q  motor_speed    torque       i_d  \\\n",
       "0 -0.752143 -1.118446  0.327935 -1.297858    -1.222428 -0.250182  1.029572   \n",
       "1 -0.771263 -1.117021  0.329665 -1.297686    -1.222429 -0.249133  1.029509   \n",
       "2 -0.782892 -1.116681  0.332771 -1.301822    -1.222428 -0.249431  1.029448   \n",
       "3 -0.780935 -1.116764  0.333700 -1.301852    -1.222430 -0.248636  1.032845   \n",
       "\n",
       "        i_q  rotor_temp  stator_yoke  stator_tooth  stator_winding  \n",
       "0 -0.245860   -2.522071    -1.831422     -2.066143       -2.018033  \n",
       "1 -0.245832   -2.522418    -1.830969     -2.064859       -2.017631  \n",
       "2 -0.245818   -2.522673    -1.830400     -2.064073       -2.017343  \n",
       "3 -0.246955   -2.521639    -1.830333     -2.063137       -2.017632  "
      ]
     },
     "execution_count": 5,
     "metadata": {},
     "output_type": "execute_result"
    },
    {
     "data": {
      "image/png": "[encoded data removed]",
      "text/plain": [
       "<Figure size 432x288 with 1 Axes>"
      ]
     },
     "metadata": {
      "needs_background": "light"
     },
     "output_type": "display_data"
    }
   ],
   "source": [
    "df['profile_id'].value_counts().hist()\n",
    "df = df.drop('profile_id', axis=1)\n",
    "df.head(4)"
   ]
  },
  {
   "cell_type": "code",
   "execution_count": 6,
   "metadata": {},
   "outputs": [
    {
     "name": "stdout",
     "output_type": "stream",
     "text": [
      "<class 'pandas.core.frame.DataFrame'>\n",
      "RangeIndex: 998070 entries, 0 to 998069\n",
      "Data columns (total 12 columns):\n",
      " #   Column          Non-Null Count   Dtype  \n",
      "---  ------          --------------   -----  \n",
      " 0   ambient         998070 non-null  float64\n",
      " 1   coolant         998070 non-null  float64\n",
      " 2   u_d             998070 non-null  float64\n",
      " 3   u_q             998070 non-null  float64\n",
      " 4   motor_speed     998070 non-null  float64\n",
      " 5   torque          998070 non-null  float64\n",
      " 6   i_d             998070 non-null  float64\n",
      " 7   i_q             998070 non-null  float64\n",
      " 8   rotor_temp      998070 non-null  float64\n",
      " 9   stator_yoke     998070 non-null  float64\n",
      " 10  stator_tooth    998070 non-null  float64\n",
      " 11  stator_winding  998070 non-null  float64\n",
      "dtypes: float64(12)\n",
      "memory usage: 91.4 MB\n"
     ]
    }
   ],
   "source": [
    "df.info()"
   ]
  },
  {
   "cell_type": "code",
   "execution_count": 7,
   "metadata": {},
   "outputs": [
    {
     "data": {
      "text/html": [
       "<div>\n",
       "<style scoped>\n",
       "    .dataframe tbody tr th:only-of-type {\n",
       "        vertical-align: middle;\n",
       "    }\n",
       "\n",
       "    .dataframe tbody tr th {\n",
       "        vertical-align: top;\n",
       "    }\n",
       "\n",
       "    .dataframe thead th {\n",
       "        text-align: right;\n",
       "    }\n",
       "</style>\n",
       "<table border=\"1\" class=\"dataframe\">\n",
       "  <thead>\n",
       "    <tr style=\"text-align: right;\">\n",
       "      <th></th>\n",
       "      <th>ambient</th>\n",
       "      <th>coolant</th>\n",
       "      <th>u_d</th>\n",
       "      <th>u_q</th>\n",
       "      <th>motor_speed</th>\n",
       "      <th>torque</th>\n",
       "      <th>i_d</th>\n",
       "      <th>i_q</th>\n",
       "      <th>rotor_temp</th>\n",
       "      <th>stator_yoke</th>\n",
       "      <th>stator_tooth</th>\n",
       "      <th>stator_winding</th>\n",
       "    </tr>\n",
       "  </thead>\n",
       "  <tbody>\n",
       "    <tr>\n",
       "      <th>ambient</th>\n",
       "      <td>1.000000</td>\n",
       "      <td>0.434435</td>\n",
       "      <td>0.194754</td>\n",
       "      <td>0.087430</td>\n",
       "      <td>0.078283</td>\n",
       "      <td>-0.262264</td>\n",
       "      <td>0.005605</td>\n",
       "      <td>-0.260562</td>\n",
       "      <td>0.501496</td>\n",
       "      <td>0.451616</td>\n",
       "      <td>0.396742</td>\n",
       "      <td>0.301883</td>\n",
       "    </tr>\n",
       "    <tr>\n",
       "      <th>coolant</th>\n",
       "      <td>0.434435</td>\n",
       "      <td>1.000000</td>\n",
       "      <td>0.178708</td>\n",
       "      <td>0.027851</td>\n",
       "      <td>-0.033332</td>\n",
       "      <td>-0.189617</td>\n",
       "      <td>0.108489</td>\n",
       "      <td>-0.186060</td>\n",
       "      <td>0.430548</td>\n",
       "      <td>0.874037</td>\n",
       "      <td>0.689003</td>\n",
       "      <td>0.509298</td>\n",
       "    </tr>\n",
       "    <tr>\n",
       "      <th>u_d</th>\n",
       "      <td>0.194754</td>\n",
       "      <td>0.178708</td>\n",
       "      <td>1.000000</td>\n",
       "      <td>-0.027472</td>\n",
       "      <td>-0.233828</td>\n",
       "      <td>-0.821325</td>\n",
       "      <td>0.358517</td>\n",
       "      <td>-0.796586</td>\n",
       "      <td>-0.082564</td>\n",
       "      <td>0.041428</td>\n",
       "      <td>-0.066256</td>\n",
       "      <td>-0.150714</td>\n",
       "    </tr>\n",
       "    <tr>\n",
       "      <th>u_q</th>\n",
       "      <td>0.087430</td>\n",
       "      <td>0.027851</td>\n",
       "      <td>-0.027472</td>\n",
       "      <td>1.000000</td>\n",
       "      <td>0.716897</td>\n",
       "      <td>-0.037262</td>\n",
       "      <td>-0.181855</td>\n",
       "      <td>-0.026348</td>\n",
       "      <td>0.101236</td>\n",
       "      <td>0.106186</td>\n",
       "      <td>0.149017</td>\n",
       "      <td>0.125445</td>\n",
       "    </tr>\n",
       "    <tr>\n",
       "      <th>motor_speed</th>\n",
       "      <td>0.078283</td>\n",
       "      <td>-0.033332</td>\n",
       "      <td>-0.233828</td>\n",
       "      <td>0.716897</td>\n",
       "      <td>1.000000</td>\n",
       "      <td>0.024517</td>\n",
       "      <td>-0.722914</td>\n",
       "      <td>0.006323</td>\n",
       "      <td>0.332419</td>\n",
       "      <td>0.182564</td>\n",
       "      <td>0.333909</td>\n",
       "      <td>0.393154</td>\n",
       "    </tr>\n",
       "    <tr>\n",
       "      <th>torque</th>\n",
       "      <td>-0.262264</td>\n",
       "      <td>-0.189617</td>\n",
       "      <td>-0.821325</td>\n",
       "      <td>-0.037262</td>\n",
       "      <td>0.024517</td>\n",
       "      <td>1.000000</td>\n",
       "      <td>-0.239059</td>\n",
       "      <td>0.996560</td>\n",
       "      <td>-0.072905</td>\n",
       "      <td>-0.092207</td>\n",
       "      <td>-0.011055</td>\n",
       "      <td>0.080981</td>\n",
       "    </tr>\n",
       "    <tr>\n",
       "      <th>i_d</th>\n",
       "      <td>0.005605</td>\n",
       "      <td>0.108489</td>\n",
       "      <td>0.358517</td>\n",
       "      <td>-0.181855</td>\n",
       "      <td>-0.722914</td>\n",
       "      <td>-0.239059</td>\n",
       "      <td>1.000000</td>\n",
       "      <td>-0.204230</td>\n",
       "      <td>-0.299227</td>\n",
       "      <td>-0.179903</td>\n",
       "      <td>-0.387712</td>\n",
       "      <td>-0.539924</td>\n",
       "    </tr>\n",
       "    <tr>\n",
       "      <th>i_q</th>\n",
       "      <td>-0.260562</td>\n",
       "      <td>-0.186060</td>\n",
       "      <td>-0.796586</td>\n",
       "      <td>-0.026348</td>\n",
       "      <td>0.006323</td>\n",
       "      <td>0.996560</td>\n",
       "      <td>-0.204230</td>\n",
       "      <td>1.000000</td>\n",
       "      <td>-0.086486</td>\n",
       "      <td>-0.098753</td>\n",
       "      <td>-0.025191</td>\n",
       "      <td>0.060949</td>\n",
       "    </tr>\n",
       "    <tr>\n",
       "      <th>rotor_temp</th>\n",
       "      <td>0.501496</td>\n",
       "      <td>0.430548</td>\n",
       "      <td>-0.082564</td>\n",
       "      <td>0.101236</td>\n",
       "      <td>0.332419</td>\n",
       "      <td>-0.072905</td>\n",
       "      <td>-0.299227</td>\n",
       "      <td>-0.086486</td>\n",
       "      <td>1.000000</td>\n",
       "      <td>0.695014</td>\n",
       "      <td>0.768352</td>\n",
       "      <td>0.729561</td>\n",
       "    </tr>\n",
       "    <tr>\n",
       "      <th>stator_yoke</th>\n",
       "      <td>0.451616</td>\n",
       "      <td>0.874037</td>\n",
       "      <td>0.041428</td>\n",
       "      <td>0.106186</td>\n",
       "      <td>0.182564</td>\n",
       "      <td>-0.092207</td>\n",
       "      <td>-0.179903</td>\n",
       "      <td>-0.098753</td>\n",
       "      <td>0.695014</td>\n",
       "      <td>1.000000</td>\n",
       "      <td>0.949898</td>\n",
       "      <td>0.845144</td>\n",
       "    </tr>\n",
       "    <tr>\n",
       "      <th>stator_tooth</th>\n",
       "      <td>0.396742</td>\n",
       "      <td>0.689003</td>\n",
       "      <td>-0.066256</td>\n",
       "      <td>0.149017</td>\n",
       "      <td>0.333909</td>\n",
       "      <td>-0.011055</td>\n",
       "      <td>-0.387712</td>\n",
       "      <td>-0.025191</td>\n",
       "      <td>0.768352</td>\n",
       "      <td>0.949898</td>\n",
       "      <td>1.000000</td>\n",
       "      <td>0.965633</td>\n",
       "    </tr>\n",
       "    <tr>\n",
       "      <th>stator_winding</th>\n",
       "      <td>0.301883</td>\n",
       "      <td>0.509298</td>\n",
       "      <td>-0.150714</td>\n",
       "      <td>0.125445</td>\n",
       "      <td>0.393154</td>\n",
       "      <td>0.080981</td>\n",
       "      <td>-0.539924</td>\n",
       "      <td>0.060949</td>\n",
       "      <td>0.729561</td>\n",
       "      <td>0.845144</td>\n",
       "      <td>0.965633</td>\n",
       "      <td>1.000000</td>\n",
       "    </tr>\n",
       "  </tbody>\n",
       "</table>\n",
       "</div>"
      ],
      "text/plain": [
       "                 ambient   coolant       u_d       u_q  motor_speed    torque  \\\n",
       "ambient         1.000000  0.434435  0.194754  0.087430     0.078283 -0.262264   \n",
       "coolant         0.434435  1.000000  0.178708  0.027851    -0.033332 -0.189617   \n",
       "u_d             0.194754  0.178708  1.000000 -0.027472    -0.233828 -0.821325   \n",
       "u_q             0.087430  0.027851 -0.027472  1.000000     0.716897 -0.037262   \n",
       "motor_speed     0.078283 -0.033332 -0.233828  0.716897     1.000000  0.024517   \n",
       "torque         -0.262264 -0.189617 -0.821325 -0.037262     0.024517  1.000000   \n",
       "i_d             0.005605  0.108489  0.358517 -0.181855    -0.722914 -0.239059   \n",
       "i_q            -0.260562 -0.186060 -0.796586 -0.026348     0.006323  0.996560   \n",
       "rotor_temp      0.501496  0.430548 -0.082564  0.101236     0.332419 -0.072905   \n",
       "stator_yoke     0.451616  0.874037  0.041428  0.106186     0.182564 -0.092207   \n",
       "stator_tooth    0.396742  0.689003 -0.066256  0.149017     0.333909 -0.011055   \n",
       "stator_winding  0.301883  0.509298 -0.150714  0.125445     0.393154  0.080981   \n",
       "\n",
       "                     i_d       i_q  rotor_temp  stator_yoke  stator_tooth  \\\n",
       "ambient         0.005605 -0.260562    0.501496     0.451616      0.396742   \n",
       "coolant         0.108489 -0.186060    0.430548     0.874037      0.689003   \n",
       "u_d             0.358517 -0.796586   -0.082564     0.041428     -0.066256   \n",
       "u_q            -0.181855 -0.026348    0.101236     0.106186      0.149017   \n",
       "motor_speed    -0.722914  0.006323    0.332419     0.182564      0.333909   \n",
       "torque         -0.239059  0.996560   -0.072905    -0.092207     -0.011055   \n",
       "i_d             1.000000 -0.204230   -0.299227    -0.179903     -0.387712   \n",
       "i_q            -0.204230  1.000000   -0.086486    -0.098753     -0.025191   \n",
       "rotor_temp     -0.299227 -0.086486    1.000000     0.695014      0.768352   \n",
       "stator_yoke    -0.179903 -0.098753    0.695014     1.000000      0.949898   \n",
       "stator_tooth   -0.387712 -0.025191    0.768352     0.949898      1.000000   \n",
       "stator_winding -0.539924  0.060949    0.729561     0.845144      0.965633   \n",
       "\n",
       "                stator_winding  \n",
       "ambient               0.301883  \n",
       "coolant               0.509298  \n",
       "u_d                  -0.150714  \n",
       "u_q                   0.125445  \n",
       "motor_speed           0.393154  \n",
       "torque                0.080981  \n",
       "i_d                  -0.539924  \n",
       "i_q                   0.060949  \n",
       "rotor_temp            0.729561  \n",
       "stator_yoke           0.845144  \n",
       "stator_tooth          0.965633  \n",
       "stator_winding        1.000000  "
      ]
     },
     "execution_count": 7,
     "metadata": {},
     "output_type": "execute_result"
    }
   ],
   "source": [
    "# finding coorelation between data \n",
    "\n",
    "cor = df.corr()\n",
    "cor"
   ]
  },
  {
   "cell_type": "code",
   "execution_count": 8,
   "metadata": {},
   "outputs": [
    {
     "data": {
      "image/png": "[encoded data removed]",
      "text/plain": [
       "<Figure size 864x864 with 2 Axes>"
      ]
     },
     "metadata": {
      "needs_background": "light"
     },
     "output_type": "display_data"
    }
   ],
   "source": [
    "##plotting heatmap to visualize this data\n",
    "plt.figure(figsize = (12,12))\n",
    "\n",
    "ax = sns.heatmap(cor, linewidths=0.6, annot=True)\n",
    "\n",
    "\n",
    "\n",
    "# # from the graph we can interpret that three major correlations\n",
    "\n",
    "# 1. u_d vs torque\n",
    "# 2. u_d vs i_q\n",
    "# 3. motorspeed vs i_d"
   ]
  },
  {
   "cell_type": "markdown",
   "metadata": {},
   "source": [
    "A synchronous motor - by definition - runs at a `fixed speed` dependent on the number of pole pairs in its construction, and the `frequency applied to the stator windings` regardless of its `output torque`. If the torque applied at the shaft exceeds the capacity of the motor, the motor will stall - stop turning."
   ]
  },
  {
   "cell_type": "code",
   "execution_count": null,
   "metadata": {},
   "outputs": [],
   "source": []
  },
  {
   "cell_type": "code",
   "execution_count": 9,
   "metadata": {},
   "outputs": [
    {
     "data": {
      "image/png": "[encoded data removed]",
      "text/plain": [
       "<Figure size 864x864 with 1 Axes>"
      ]
     },
     "metadata": {
      "needs_background": "light"
     },
     "output_type": "display_data"
    }
   ],
   "source": [
    "#finding outliers\n",
    "\n",
    "\n",
    "\n",
    "\n",
    "df.columns\n",
    "plt.figure(figsize=(12,12))\n",
    "box_detail = df.boxplot(column=['ambient', 'coolant', 'u_d', 'u_q', 'motor_speed', 'torque', 'i_d',\n",
    "       'i_q', 'rotor_temp', 'stator_yoke', 'stator_tooth', 'stator_winding'])\n",
    "\n",
    "\n",
    "#most amount of outliers are in torque and U_d\n",
    "# while Ud is related to Iq \n",
    "# and iq is related to torque "
   ]
  },
  {
   "cell_type": "code",
   "execution_count": 10,
   "metadata": {},
   "outputs": [
    {
     "data": {
      "text/plain": [
       "matplotlib.axes._subplots.AxesSubplot"
      ]
     },
     "execution_count": 10,
     "metadata": {},
     "output_type": "execute_result"
    }
   ],
   "source": [
    "#[item.get_ydata() for item in box_detail['whiskers']]\n",
    "\n",
    "type(box_detail)"
   ]
  },
  {
   "cell_type": "code",
   "execution_count": 11,
   "metadata": {},
   "outputs": [],
   "source": [
    "#We'll build model without removing the outliers to see the effect on  the model"
   ]
  },
  {
   "cell_type": "code",
   "execution_count": 12,
   "metadata": {},
   "outputs": [],
   "source": [
    "#import train test split for dividing models\n",
    "\n",
    "from sklearn.model_selection import train_test_split"
   ]
  },
  {
   "cell_type": "code",
   "execution_count": 13,
   "metadata": {},
   "outputs": [],
   "source": [
    "#excluding torque and rotor temperature as it is harder to guess\n",
    "\n",
    "X = df.drop(['torque','rotor_temp'], axis  =1)\n",
    "y= df['torque']  #output kept in other vairable."
   ]
  },
  {
   "cell_type": "code",
   "execution_count": 14,
   "metadata": {},
   "outputs": [],
   "source": [
    "X_train,X_test, Y_train, Y_test = train_test_split(X,y, test_size = 0.20, random_state = 101)"
   ]
  },
  {
   "cell_type": "code",
   "execution_count": 15,
   "metadata": {},
   "outputs": [],
   "source": [
    "from sklearn.linear_model import LinearRegression\n",
    "from sklearn.metrics import confusion_matrix, mean_squared_error, r2_score\n",
    "from sklearn.preprocessing import MinMaxScaler\n"
   ]
  },
  {
   "cell_type": "code",
   "execution_count": 16,
   "metadata": {},
   "outputs": [
    {
     "name": "stdout",
     "output_type": "stream",
     "text": [
      "0.9961984411217913\n"
     ]
    }
   ],
   "source": [
    "\n",
    "#making a simple linear model for both torque and roto_temperature.\n",
    "\n",
    "model = LinearRegression()\n",
    "model.fit(X_train, Y_train)\n",
    "\n",
    "y_pred =model.predict(X_test)\n",
    "r2 = r2_score(Y_test, y_pred)\n",
    "print(r2)"
   ]
  },
  {
   "cell_type": "markdown",
   "metadata": {},
   "source": [
    "### In this section we'll do prediction for rotor temperature"
   ]
  },
  {
   "cell_type": "code",
   "execution_count": 17,
   "metadata": {},
   "outputs": [],
   "source": [
    "X_r = df.drop(['torque', 'rotor_temp'], axis = 1)\n",
    "y_r = df.rotor_temp"
   ]
  },
  {
   "cell_type": "code",
   "execution_count": 18,
   "metadata": {},
   "outputs": [],
   "source": [
    "X_train, X_test, y_train, y_test = train_test_split(X_r, y_r, test_size= 0.2, random_state = 0)"
   ]
  },
  {
   "cell_type": "code",
   "execution_count": 19,
   "metadata": {},
   "outputs": [
    {
     "name": "stdout",
     "output_type": "stream",
     "text": [
      "0.7716228076705012\n"
     ]
    }
   ],
   "source": [
    "model1 = LinearRegression()\n",
    "model1.fit(X_train, y_train)\n",
    "y_pred = model1.predict(X_test)\n",
    "r2 = r2_score(y_test, y_pred)\n",
    "print(r2)"
   ]
  },
  {
   "cell_type": "markdown",
   "metadata": {},
   "source": [
    "### Heating of rotor starts after working of motor  for some time"
   ]
  },
  {
   "cell_type": "code",
   "execution_count": 20,
   "metadata": {},
   "outputs": [
    {
     "name": "stdout",
     "output_type": "stream",
     "text": [
      "0.7716222822493886\n"
     ]
    }
   ],
   "source": [
    "X_r = df.drop(['rotor_temp'], axis = 1)\n",
    "y_r = df.rotor_temp\n",
    "\n",
    "X_train, X_test, y_train, y_test = train_test_split(X_r, y_r, test_size= 0.2, random_state = 0)\n",
    "\n",
    "model1 = LinearRegression()\n",
    "model1.fit(X_train, y_train)\n",
    "y_pred = model1.predict(X_test)\n",
    "r2 = r2_score(y_test, y_pred)\n",
    "print(r2)"
   ]
  },
  {
   "cell_type": "code",
   "execution_count": 21,
   "metadata": {},
   "outputs": [
    {
     "name": "stdout",
     "output_type": "stream",
     "text": [
      "0.9962118456177756\n"
     ]
    }
   ],
   "source": [
    "X_r = df.drop(['torque'], axis = 1)\n",
    "y_r = df.torque\n",
    "\n",
    "X_train, X_test, y_train, y_test = train_test_split(X_r, y_r, test_size= 0.2, random_state = 0)\n",
    "\n",
    "model1 = LinearRegression()\n",
    "model1.fit(X_train, y_train)\n",
    "y_pred = model1.predict(X_test)\n",
    "r2 = r2_score(y_test, y_pred)\n",
    "print(r2)"
   ]
  },
  {
   "cell_type": "markdown",
   "metadata": {},
   "source": [
    "## from the last two cell we learned that adding values of torque while finding rotor temp had no major effect on the output\n"
   ]
  },
  {
   "cell_type": "code",
   "execution_count": 22,
   "metadata": {},
   "outputs": [
    {
     "data": {
      "text/html": [
       "<table class=\"simpletable\">\n",
       "<caption>OLS Regression Results</caption>\n",
       "<tr>\n",
       "  <th>Dep. Variable:</th>         <td>torque</td>      <th>  R-squared:         </th>  <td>   0.996</td> \n",
       "</tr>\n",
       "<tr>\n",
       "  <th>Model:</th>                   <td>OLS</td>       <th>  Adj. R-squared:    </th>  <td>   0.996</td> \n",
       "</tr>\n",
       "<tr>\n",
       "  <th>Method:</th>             <td>Least Squares</td>  <th>  F-statistic:       </th>  <td>2.606e+07</td>\n",
       "</tr>\n",
       "<tr>\n",
       "  <th>Date:</th>             <td>Thu, 02 Jul 2020</td> <th>  Prob (F-statistic):</th>   <td>  0.00</td>  \n",
       "</tr>\n",
       "<tr>\n",
       "  <th>Time:</th>                 <td>12:07:15</td>     <th>  Log-Likelihood:    </th> <td>1.3649e+06</td>\n",
       "</tr>\n",
       "<tr>\n",
       "  <th>No. Observations:</th>      <td>998070</td>      <th>  AIC:               </th> <td>-2.730e+06</td>\n",
       "</tr>\n",
       "<tr>\n",
       "  <th>Df Residuals:</th>          <td>998059</td>      <th>  BIC:               </th> <td>-2.730e+06</td>\n",
       "</tr>\n",
       "<tr>\n",
       "  <th>Df Model:</th>              <td>    10</td>      <th>                     </th>      <td> </td>    \n",
       "</tr>\n",
       "<tr>\n",
       "  <th>Covariance Type:</th>      <td>nonrobust</td>    <th>                     </th>      <td> </td>    \n",
       "</tr>\n",
       "</table>\n",
       "<table class=\"simpletable\">\n",
       "<tr>\n",
       "         <td></td>           <th>coef</th>     <th>std err</th>      <th>t</th>      <th>P>|t|</th>  <th>[0.025</th>    <th>0.975]</th>  \n",
       "</tr>\n",
       "<tr>\n",
       "  <th>const</th>          <td> 3.942e-05</td> <td> 6.17e-05</td> <td>    0.639</td> <td> 0.523</td> <td>-8.15e-05</td> <td>    0.000</td>\n",
       "</tr>\n",
       "<tr>\n",
       "  <th>ambient</th>        <td>   -0.0026</td> <td>  7.4e-05</td> <td>  -35.573</td> <td> 0.000</td> <td>   -0.003</td> <td>   -0.002</td>\n",
       "</tr>\n",
       "<tr>\n",
       "  <th>coolant</th>        <td>    0.0046</td> <td>    0.000</td> <td>   11.639</td> <td> 0.000</td> <td>    0.004</td> <td>    0.005</td>\n",
       "</tr>\n",
       "<tr>\n",
       "  <th>u_d</th>            <td>   -0.0705</td> <td>    0.000</td> <td> -589.402</td> <td> 0.000</td> <td>   -0.071</td> <td>   -0.070</td>\n",
       "</tr>\n",
       "<tr>\n",
       "  <th>u_q</th>            <td>   -0.0050</td> <td>    0.000</td> <td>  -36.494</td> <td> 0.000</td> <td>   -0.005</td> <td>   -0.005</td>\n",
       "</tr>\n",
       "<tr>\n",
       "  <th>motor_speed</th>    <td>   -0.0182</td> <td>    0.000</td> <td>  -80.688</td> <td> 0.000</td> <td>   -0.019</td> <td>   -0.018</td>\n",
       "</tr>\n",
       "<tr>\n",
       "  <th>i_d</th>            <td>   -0.0327</td> <td>    0.000</td> <td> -181.100</td> <td> 0.000</td> <td>   -0.033</td> <td>   -0.032</td>\n",
       "</tr>\n",
       "<tr>\n",
       "  <th>i_q</th>            <td>    0.9302</td> <td>    0.000</td> <td> 7697.818</td> <td> 0.000</td> <td>    0.930</td> <td>    0.930</td>\n",
       "</tr>\n",
       "<tr>\n",
       "  <th>stator_yoke</th>    <td>    0.0308</td> <td>    0.001</td> <td>   25.137</td> <td> 0.000</td> <td>    0.028</td> <td>    0.033</td>\n",
       "</tr>\n",
       "<tr>\n",
       "  <th>stator_tooth</th>   <td>   -0.0971</td> <td>    0.002</td> <td>  -63.039</td> <td> 0.000</td> <td>   -0.100</td> <td>   -0.094</td>\n",
       "</tr>\n",
       "<tr>\n",
       "  <th>stator_winding</th> <td>    0.0700</td> <td>    0.001</td> <td>   91.965</td> <td> 0.000</td> <td>    0.069</td> <td>    0.072</td>\n",
       "</tr>\n",
       "</table>\n",
       "<table class=\"simpletable\">\n",
       "<tr>\n",
       "  <th>Omnibus:</th>       <td>293628.878</td> <th>  Durbin-Watson:     </th>   <td>   0.009</td>  \n",
       "</tr>\n",
       "<tr>\n",
       "  <th>Prob(Omnibus):</th>   <td> 0.000</td>   <th>  Jarque-Bera (JB):  </th> <td>28023864.242</td>\n",
       "</tr>\n",
       "<tr>\n",
       "  <th>Skew:</th>            <td>-0.410</td>   <th>  Prob(JB):          </th>   <td>    0.00</td>  \n",
       "</tr>\n",
       "<tr>\n",
       "  <th>Kurtosis:</th>        <td>28.946</td>   <th>  Cond. No.          </th>   <td>    65.9</td>  \n",
       "</tr>\n",
       "</table><br/><br/>Warnings:<br/>[1] Standard Errors assume that the covariance matrix of the errors is correctly specified."
      ],
      "text/plain": [
       "<class 'statsmodels.iolib.summary.Summary'>\n",
       "\"\"\"\n",
       "                            OLS Regression Results                            \n",
       "==============================================================================\n",
       "Dep. Variable:                 torque   R-squared:                       0.996\n",
       "Model:                            OLS   Adj. R-squared:                  0.996\n",
       "Method:                 Least Squares   F-statistic:                 2.606e+07\n",
       "Date:                Thu, 02 Jul 2020   Prob (F-statistic):               0.00\n",
       "Time:                        12:07:15   Log-Likelihood:             1.3649e+06\n",
       "No. Observations:              998070   AIC:                        -2.730e+06\n",
       "Df Residuals:                  998059   BIC:                        -2.730e+06\n",
       "Df Model:                          10                                         \n",
       "Covariance Type:            nonrobust                                         \n",
       "==================================================================================\n",
       "                     coef    std err          t      P>|t|      [0.025      0.975]\n",
       "----------------------------------------------------------------------------------\n",
       "const           3.942e-05   6.17e-05      0.639      0.523   -8.15e-05       0.000\n",
       "ambient           -0.0026    7.4e-05    -35.573      0.000      -0.003      -0.002\n",
       "coolant            0.0046      0.000     11.639      0.000       0.004       0.005\n",
       "u_d               -0.0705      0.000   -589.402      0.000      -0.071      -0.070\n",
       "u_q               -0.0050      0.000    -36.494      0.000      -0.005      -0.005\n",
       "motor_speed       -0.0182      0.000    -80.688      0.000      -0.019      -0.018\n",
       "i_d               -0.0327      0.000   -181.100      0.000      -0.033      -0.032\n",
       "i_q                0.9302      0.000   7697.818      0.000       0.930       0.930\n",
       "stator_yoke        0.0308      0.001     25.137      0.000       0.028       0.033\n",
       "stator_tooth      -0.0971      0.002    -63.039      0.000      -0.100      -0.094\n",
       "stator_winding     0.0700      0.001     91.965      0.000       0.069       0.072\n",
       "==============================================================================\n",
       "Omnibus:                   293628.878   Durbin-Watson:                   0.009\n",
       "Prob(Omnibus):                  0.000   Jarque-Bera (JB):         28023864.242\n",
       "Skew:                          -0.410   Prob(JB):                         0.00\n",
       "Kurtosis:                      28.946   Cond. No.                         65.9\n",
       "==============================================================================\n",
       "\n",
       "Warnings:\n",
       "[1] Standard Errors assume that the covariance matrix of the errors is correctly specified.\n",
       "\"\"\""
      ]
     },
     "execution_count": 22,
     "metadata": {},
     "output_type": "execute_result"
    }
   ],
   "source": [
    "# we'll try OLS method to find the significance of all columns\n",
    "\n",
    "X = df.drop(['torque', 'rotor_temp'], axis = 1)\n",
    "y = df.torque\n",
    "\n",
    "#this calculation is for torque \n",
    "import statsmodels.api as sm\n",
    "import numpy as np\n",
    "\n",
    "X = sm.add_constant(X)\n",
    "# Note the difference in argument order\n",
    "model = sm.OLS(y, X).fit()\n",
    "#predictions = model.predict(X) # make the predictions by the model\n",
    "\n",
    "# Print out the statistics\n",
    "model.summary()"
   ]
  },
  {
   "cell_type": "code",
   "execution_count": 23,
   "metadata": {},
   "outputs": [],
   "source": [
    "X = df.drop(['torque', 'rotor_temp'], axis = 1)\n",
    "y = df.rotor_temp"
   ]
  },
  {
   "cell_type": "code",
   "execution_count": 24,
   "metadata": {},
   "outputs": [
    {
     "data": {
      "text/html": [
       "<table class=\"simpletable\">\n",
       "<caption>OLS Regression Results</caption>\n",
       "<tr>\n",
       "  <th>Dep. Variable:</th>       <td>rotor_temp</td>    <th>  R-squared:         </th>  <td>   0.772</td>  \n",
       "</tr>\n",
       "<tr>\n",
       "  <th>Model:</th>                   <td>OLS</td>       <th>  Adj. R-squared:    </th>  <td>   0.772</td>  \n",
       "</tr>\n",
       "<tr>\n",
       "  <th>Method:</th>             <td>Least Squares</td>  <th>  F-statistic:       </th>  <td>3.383e+05</td> \n",
       "</tr>\n",
       "<tr>\n",
       "  <th>Date:</th>             <td>Thu, 02 Jul 2020</td> <th>  Prob (F-statistic):</th>   <td>  0.00</td>   \n",
       "</tr>\n",
       "<tr>\n",
       "  <th>Time:</th>                 <td>12:07:19</td>     <th>  Log-Likelihood:    </th> <td>-6.7373e+05</td>\n",
       "</tr>\n",
       "<tr>\n",
       "  <th>No. Observations:</th>      <td>998070</td>      <th>  AIC:               </th>  <td>1.347e+06</td> \n",
       "</tr>\n",
       "<tr>\n",
       "  <th>Df Residuals:</th>          <td>998059</td>      <th>  BIC:               </th>  <td>1.348e+06</td> \n",
       "</tr>\n",
       "<tr>\n",
       "  <th>Df Model:</th>              <td>    10</td>      <th>                     </th>      <td> </td>     \n",
       "</tr>\n",
       "<tr>\n",
       "  <th>Covariance Type:</th>      <td>nonrobust</td>    <th>                     </th>      <td> </td>     \n",
       "</tr>\n",
       "</table>\n",
       "<table class=\"simpletable\">\n",
       "<tr>\n",
       "         <td></td>           <th>coef</th>     <th>std err</th>      <th>t</th>      <th>P>|t|</th>  <th>[0.025</th>    <th>0.975]</th>  \n",
       "</tr>\n",
       "<tr>\n",
       "  <th>const</th>          <td>   -0.0010</td> <td>    0.000</td> <td>   -2.027</td> <td> 0.043</td> <td>   -0.002</td> <td> -3.2e-05</td>\n",
       "</tr>\n",
       "<tr>\n",
       "  <th>ambient</th>        <td>    0.2174</td> <td>    0.001</td> <td>  381.188</td> <td> 0.000</td> <td>    0.216</td> <td>    0.219</td>\n",
       "</tr>\n",
       "<tr>\n",
       "  <th>coolant</th>        <td>   -0.2661</td> <td>    0.003</td> <td>  -87.333</td> <td> 0.000</td> <td>   -0.272</td> <td>   -0.260</td>\n",
       "</tr>\n",
       "<tr>\n",
       "  <th>u_d</th>            <td>   -0.0363</td> <td>    0.001</td> <td>  -39.392</td> <td> 0.000</td> <td>   -0.038</td> <td>   -0.034</td>\n",
       "</tr>\n",
       "<tr>\n",
       "  <th>u_q</th>            <td>   -0.3437</td> <td>    0.001</td> <td> -323.263</td> <td> 0.000</td> <td>   -0.346</td> <td>   -0.342</td>\n",
       "</tr>\n",
       "<tr>\n",
       "  <th>motor_speed</th>    <td>    0.3330</td> <td>    0.002</td> <td>  191.996</td> <td> 0.000</td> <td>    0.330</td> <td>    0.336</td>\n",
       "</tr>\n",
       "<tr>\n",
       "  <th>i_d</th>            <td>    0.1795</td> <td>    0.001</td> <td>  129.021</td> <td> 0.000</td> <td>    0.177</td> <td>    0.182</td>\n",
       "</tr>\n",
       "<tr>\n",
       "  <th>i_q</th>            <td>    0.0163</td> <td>    0.001</td> <td>   17.536</td> <td> 0.000</td> <td>    0.015</td> <td>    0.018</td>\n",
       "</tr>\n",
       "<tr>\n",
       "  <th>stator_yoke</th>    <td>   -1.5581</td> <td>    0.009</td> <td> -164.973</td> <td> 0.000</td> <td>   -1.577</td> <td>   -1.540</td>\n",
       "</tr>\n",
       "<tr>\n",
       "  <th>stator_tooth</th>   <td>    4.5507</td> <td>    0.012</td> <td>  383.163</td> <td> 0.000</td> <td>    4.527</td> <td>    4.574</td>\n",
       "</tr>\n",
       "<tr>\n",
       "  <th>stator_winding</th> <td>   -2.2785</td> <td>    0.006</td> <td> -388.143</td> <td> 0.000</td> <td>   -2.290</td> <td>   -2.267</td>\n",
       "</tr>\n",
       "</table>\n",
       "<table class=\"simpletable\">\n",
       "<tr>\n",
       "  <th>Omnibus:</th>       <td>45736.748</td> <th>  Durbin-Watson:     </th>  <td>   0.002</td> \n",
       "</tr>\n",
       "<tr>\n",
       "  <th>Prob(Omnibus):</th>  <td> 0.000</td>   <th>  Jarque-Bera (JB):  </th> <td>106942.020</td>\n",
       "</tr>\n",
       "<tr>\n",
       "  <th>Skew:</th>           <td> 0.284</td>   <th>  Prob(JB):          </th>  <td>    0.00</td> \n",
       "</tr>\n",
       "<tr>\n",
       "  <th>Kurtosis:</th>       <td> 4.500</td>   <th>  Cond. No.          </th>  <td>    65.9</td> \n",
       "</tr>\n",
       "</table><br/><br/>Warnings:<br/>[1] Standard Errors assume that the covariance matrix of the errors is correctly specified."
      ],
      "text/plain": [
       "<class 'statsmodels.iolib.summary.Summary'>\n",
       "\"\"\"\n",
       "                            OLS Regression Results                            \n",
       "==============================================================================\n",
       "Dep. Variable:             rotor_temp   R-squared:                       0.772\n",
       "Model:                            OLS   Adj. R-squared:                  0.772\n",
       "Method:                 Least Squares   F-statistic:                 3.383e+05\n",
       "Date:                Thu, 02 Jul 2020   Prob (F-statistic):               0.00\n",
       "Time:                        12:07:19   Log-Likelihood:            -6.7373e+05\n",
       "No. Observations:              998070   AIC:                         1.347e+06\n",
       "Df Residuals:                  998059   BIC:                         1.348e+06\n",
       "Df Model:                          10                                         \n",
       "Covariance Type:            nonrobust                                         \n",
       "==================================================================================\n",
       "                     coef    std err          t      P>|t|      [0.025      0.975]\n",
       "----------------------------------------------------------------------------------\n",
       "const             -0.0010      0.000     -2.027      0.043      -0.002    -3.2e-05\n",
       "ambient            0.2174      0.001    381.188      0.000       0.216       0.219\n",
       "coolant           -0.2661      0.003    -87.333      0.000      -0.272      -0.260\n",
       "u_d               -0.0363      0.001    -39.392      0.000      -0.038      -0.034\n",
       "u_q               -0.3437      0.001   -323.263      0.000      -0.346      -0.342\n",
       "motor_speed        0.3330      0.002    191.996      0.000       0.330       0.336\n",
       "i_d                0.1795      0.001    129.021      0.000       0.177       0.182\n",
       "i_q                0.0163      0.001     17.536      0.000       0.015       0.018\n",
       "stator_yoke       -1.5581      0.009   -164.973      0.000      -1.577      -1.540\n",
       "stator_tooth       4.5507      0.012    383.163      0.000       4.527       4.574\n",
       "stator_winding    -2.2785      0.006   -388.143      0.000      -2.290      -2.267\n",
       "==============================================================================\n",
       "Omnibus:                    45736.748   Durbin-Watson:                   0.002\n",
       "Prob(Omnibus):                  0.000   Jarque-Bera (JB):           106942.020\n",
       "Skew:                           0.284   Prob(JB):                         0.00\n",
       "Kurtosis:                       4.500   Cond. No.                         65.9\n",
       "==============================================================================\n",
       "\n",
       "Warnings:\n",
       "[1] Standard Errors assume that the covariance matrix of the errors is correctly specified.\n",
       "\"\"\""
      ]
     },
     "execution_count": 24,
     "metadata": {},
     "output_type": "execute_result"
    }
   ],
   "source": [
    "#output of rotor temp is not increasing more than 77.6 even when it has used all datasets\n",
    "\n",
    "X = sm.add_constant(X)\n",
    "model = sm.OLS(y,X).fit()\n",
    "\n",
    "model.summary()"
   ]
  },
  {
   "cell_type": "code",
   "execution_count": 25,
   "metadata": {},
   "outputs": [
    {
     "data": {
      "text/plain": [
       "<matplotlib.axes._subplots.AxesSubplot at 0x989e0d53c8>"
      ]
     },
     "execution_count": 25,
     "metadata": {},
     "output_type": "execute_result"
    },
    {
     "data": {
      "image/png": "[encoded data removed]",
      "text/plain": [
       "<Figure size 1080x1080 with 1 Axes>"
      ]
     },
     "metadata": {
      "needs_background": "light"
     },
     "output_type": "display_data"
    }
   ],
   "source": [
    "# We'll try to improve value of rotor_temp modeln by removing outliers\n",
    "\n",
    "df.boxplot(figsize=(15,15))"
   ]
  },
  {
   "cell_type": "code",
   "execution_count": 26,
   "metadata": {},
   "outputs": [],
   "source": [
    "df.i_q.describe()\n",
    "\n",
    "\n",
    "new_df = df[(df.i_q >= -1.8) & (df.i_q < 2)]\n",
    "new_df = new_df[(new_df.ambient >-2.4) & (new_df.ambient<2.4)]\n"
   ]
  },
  {
   "cell_type": "code",
   "execution_count": 27,
   "metadata": {},
   "outputs": [
    {
     "name": "stdout",
     "output_type": "stream",
     "text": [
      "<class 'pandas.core.frame.DataFrame'>\n",
      "Int64Index: 879053 entries, 0 to 998069\n",
      "Data columns (total 12 columns):\n",
      " #   Column          Non-Null Count   Dtype  \n",
      "---  ------          --------------   -----  \n",
      " 0   ambient         879053 non-null  float64\n",
      " 1   coolant         879053 non-null  float64\n",
      " 2   u_d             879053 non-null  float64\n",
      " 3   u_q             879053 non-null  float64\n",
      " 4   motor_speed     879053 non-null  float64\n",
      " 5   torque          879053 non-null  float64\n",
      " 6   i_d             879053 non-null  float64\n",
      " 7   i_q             879053 non-null  float64\n",
      " 8   rotor_temp      879053 non-null  float64\n",
      " 9   stator_yoke     879053 non-null  float64\n",
      " 10  stator_tooth    879053 non-null  float64\n",
      " 11  stator_winding  879053 non-null  float64\n",
      "dtypes: float64(12)\n",
      "memory usage: 87.2 MB\n"
     ]
    },
    {
     "data": {
      "image/png": "[encoded data removed]",
      "text/plain": [
       "<Figure size 720x720 with 1 Axes>"
      ]
     },
     "metadata": {
      "needs_background": "light"
     },
     "output_type": "display_data"
    }
   ],
   "source": [
    "new_df.boxplot(figsize=(10,10))\n",
    "new_df.info()"
   ]
  },
  {
   "cell_type": "code",
   "execution_count": 28,
   "metadata": {},
   "outputs": [
    {
     "name": "stdout",
     "output_type": "stream",
     "text": [
      "<class 'pandas.core.frame.DataFrame'>\n",
      "Int64Index: 879053 entries, 0 to 998069\n",
      "Data columns (total 12 columns):\n",
      " #   Column          Non-Null Count   Dtype  \n",
      "---  ------          --------------   -----  \n",
      " 0   ambient         879053 non-null  float64\n",
      " 1   coolant         879053 non-null  float64\n",
      " 2   u_d             879053 non-null  float64\n",
      " 3   u_q             879053 non-null  float64\n",
      " 4   motor_speed     879053 non-null  float64\n",
      " 5   torque          879053 non-null  float64\n",
      " 6   i_d             879053 non-null  float64\n",
      " 7   i_q             879053 non-null  float64\n",
      " 8   rotor_temp      879053 non-null  float64\n",
      " 9   stator_yoke     879053 non-null  float64\n",
      " 10  stator_tooth    879053 non-null  float64\n",
      " 11  stator_winding  879053 non-null  float64\n",
      "dtypes: float64(12)\n",
      "memory usage: 87.2 MB\n",
      "0.7716228076705012\n"
     ]
    }
   ],
   "source": [
    "new_df.info()\n",
    "X_r = df.drop(['torque', 'rotor_temp'], axis = 1)\n",
    "y_r = df.rotor_temp\n",
    "\n",
    "X_train, X_test, y_train, y_test = train_test_split(X_r, y_r, test_size= 0.2, random_state = 0)\n",
    "\n",
    "model1 = LinearRegression()\n",
    "model1.fit(X_train, y_train)\n",
    "y_pred = model1.predict(X_test)\n",
    "r2 = r2_score(y_test, y_pred)\n",
    "print(r2)\n",
    "\n",
    "\n",
    "#model is not improving even after removing the outliers"
   ]
  },
  {
   "cell_type": "code",
   "execution_count": 29,
   "metadata": {},
   "outputs": [],
   "source": [
    "# Lets try using decision tree for out model"
   ]
  },
  {
   "cell_type": "code",
   "execution_count": 30,
   "metadata": {},
   "outputs": [
    {
     "name": "stdout",
     "output_type": "stream",
     "text": [
      "0.9999028787548248\n"
     ]
    }
   ],
   "source": [
    "from sklearn.tree import DecisionTreeRegressor\n",
    "\n",
    "tree = DecisionTreeRegressor(random_state=100)\n",
    "\n",
    "\n",
    "X_r = df.drop(['torque', 'rotor_temp'], axis = 1)\n",
    "y_r = df.torque\n",
    "X_train, X_test, y_train, y_test = train_test_split(X_r, y_r, test_size= 0.2, random_state = 20)\n",
    "\n",
    "tree.fit(X_train, y_train)\n",
    "y_pred = tree.predict(X_test)\n",
    "r2 = r2_score(y_test, y_pred)\n",
    "print(r2)\n"
   ]
  },
  {
   "cell_type": "markdown",
   "metadata": {},
   "source": [
    "### We are getting 99.7 percent accuracy for rotor and 99.999 for torque  using decision tree"
   ]
  },
  {
   "cell_type": "code",
   "execution_count": 31,
   "metadata": {},
   "outputs": [
    {
     "name": "stdout",
     "output_type": "stream",
     "text": [
      "0.9972281224509929\n"
     ]
    }
   ],
   "source": [
    "from sklearn.tree import DecisionTreeRegressor\n",
    "\n",
    "tree = DecisionTreeRegressor(random_state=100)\n",
    "\n",
    "\n",
    "X_r = df.drop(['torque', 'rotor_temp'], axis = 1)\n",
    "y_r = df.rotor_temp\n",
    "X_train, X_test, y_train, y_test = train_test_split(X_r, y_r, test_size= 0.2, random_state = 20)\n",
    "\n",
    "tree.fit(X_train, y_train)\n",
    "y_pred = tree.predict(X_test)\n",
    "r2 = r2_score(y_test, y_pred)\n",
    "print(r2)\n"
   ]
  },
  {
   "cell_type": "code",
   "execution_count": 34,
   "metadata": {},
   "outputs": [],
   "source": [
    "new_x = df[['ambient', 'coolant', 'u_d', 'u_q', 'motor_speed', 'i_d',\n",
    "       'i_q', 'rotor_temp']]"
   ]
  },
  {
   "cell_type": "code",
   "execution_count": 40,
   "metadata": {},
   "outputs": [],
   "source": [
    "new_y = df.stator_tooth"
   ]
  },
  {
   "cell_type": "code",
   "execution_count": 41,
   "metadata": {},
   "outputs": [
    {
     "data": {
      "text/html": [
       "<table class=\"simpletable\">\n",
       "<caption>OLS Regression Results</caption>\n",
       "<tr>\n",
       "  <th>Dep. Variable:</th>      <td>stator_tooth</td>   <th>  R-squared:         </th>  <td>   1.000</td> \n",
       "</tr>\n",
       "<tr>\n",
       "  <th>Model:</th>                   <td>OLS</td>       <th>  Adj. R-squared:    </th>  <td>   1.000</td> \n",
       "</tr>\n",
       "<tr>\n",
       "  <th>Method:</th>             <td>Least Squares</td>  <th>  F-statistic:       </th>  <td>2.706e+32</td>\n",
       "</tr>\n",
       "<tr>\n",
       "  <th>Date:</th>             <td>Thu, 02 Jul 2020</td> <th>  Prob (F-statistic):</th>   <td>  0.00</td>  \n",
       "</tr>\n",
       "<tr>\n",
       "  <th>Time:</th>                 <td>12:13:52</td>     <th>  Log-Likelihood:    </th> <td>3.0107e+07</td>\n",
       "</tr>\n",
       "<tr>\n",
       "  <th>No. Observations:</th>      <td>998070</td>      <th>  AIC:               </th> <td>-6.021e+07</td>\n",
       "</tr>\n",
       "<tr>\n",
       "  <th>Df Residuals:</th>          <td>998059</td>      <th>  BIC:               </th> <td>-6.021e+07</td>\n",
       "</tr>\n",
       "<tr>\n",
       "  <th>Df Model:</th>              <td>    10</td>      <th>                     </th>      <td> </td>    \n",
       "</tr>\n",
       "<tr>\n",
       "  <th>Covariance Type:</th>      <td>nonrobust</td>    <th>                     </th>      <td> </td>    \n",
       "</tr>\n",
       "</table>\n",
       "<table class=\"simpletable\">\n",
       "<tr>\n",
       "         <td></td>           <th>coef</th>     <th>std err</th>      <th>t</th>      <th>P>|t|</th>  <th>[0.025</th>    <th>0.975]</th>  \n",
       "</tr>\n",
       "<tr>\n",
       "  <th>const</th>          <td>-2.687e-15</td> <td> 1.92e-17</td> <td> -139.838</td> <td> 0.000</td> <td>-2.73e-15</td> <td>-2.65e-15</td>\n",
       "</tr>\n",
       "<tr>\n",
       "  <th>ambient</th>        <td> 1.051e-15</td> <td>  2.3e-17</td> <td>   45.637</td> <td> 0.000</td> <td> 1.01e-15</td> <td>  1.1e-15</td>\n",
       "</tr>\n",
       "<tr>\n",
       "  <th>coolant</th>        <td> 8.913e-15</td> <td> 1.23e-16</td> <td>   72.412</td> <td> 0.000</td> <td> 8.67e-15</td> <td> 9.15e-15</td>\n",
       "</tr>\n",
       "<tr>\n",
       "  <th>u_d</th>            <td> 9.051e-16</td> <td> 3.72e-17</td> <td>   24.310</td> <td> 0.000</td> <td> 8.32e-16</td> <td> 9.78e-16</td>\n",
       "</tr>\n",
       "<tr>\n",
       "  <th>u_q</th>            <td> 2.915e-15</td> <td> 4.29e-17</td> <td>   67.877</td> <td> 0.000</td> <td> 2.83e-15</td> <td>    3e-15</td>\n",
       "</tr>\n",
       "<tr>\n",
       "  <th>motor_speed</th>    <td>-4.923e-15</td> <td> 7.01e-17</td> <td>  -70.260</td> <td> 0.000</td> <td>-5.06e-15</td> <td>-4.79e-15</td>\n",
       "</tr>\n",
       "<tr>\n",
       "  <th>i_d</th>            <td>-6.501e-15</td> <td> 5.62e-17</td> <td> -115.643</td> <td> 0.000</td> <td>-6.61e-15</td> <td>-6.39e-15</td>\n",
       "</tr>\n",
       "<tr>\n",
       "  <th>i_q</th>            <td> 2.142e-15</td> <td> 3.76e-17</td> <td>   56.910</td> <td> 0.000</td> <td> 2.07e-15</td> <td> 2.22e-15</td>\n",
       "</tr>\n",
       "<tr>\n",
       "  <th>stator_yoke</th>    <td>-5.061e-15</td> <td> 3.82e-16</td> <td>  -13.266</td> <td> 0.000</td> <td>-5.81e-15</td> <td>-4.31e-15</td>\n",
       "</tr>\n",
       "<tr>\n",
       "  <th>stator_tooth</th>   <td>    1.0000</td> <td>  4.8e-16</td> <td> 2.08e+15</td> <td> 0.000</td> <td>    1.000</td> <td>    1.000</td>\n",
       "</tr>\n",
       "<tr>\n",
       "  <th>stator_winding</th> <td>-2.036e-15</td> <td> 2.37e-16</td> <td>   -8.585</td> <td> 0.000</td> <td> -2.5e-15</td> <td>-1.57e-15</td>\n",
       "</tr>\n",
       "</table>\n",
       "<table class=\"simpletable\">\n",
       "<tr>\n",
       "  <th>Omnibus:</th>       <td>48139.211</td> <th>  Durbin-Watson:     </th> <td>   0.000</td> \n",
       "</tr>\n",
       "<tr>\n",
       "  <th>Prob(Omnibus):</th>  <td> 0.000</td>   <th>  Jarque-Bera (JB):  </th> <td>20072.761</td>\n",
       "</tr>\n",
       "<tr>\n",
       "  <th>Skew:</th>           <td>-0.080</td>   <th>  Prob(JB):          </th> <td>    0.00</td> \n",
       "</tr>\n",
       "<tr>\n",
       "  <th>Kurtosis:</th>       <td> 2.324</td>   <th>  Cond. No.          </th> <td>    65.9</td> \n",
       "</tr>\n",
       "</table><br/><br/>Warnings:<br/>[1] Standard Errors assume that the covariance matrix of the errors is correctly specified."
      ],
      "text/plain": [
       "<class 'statsmodels.iolib.summary.Summary'>\n",
       "\"\"\"\n",
       "                            OLS Regression Results                            \n",
       "==============================================================================\n",
       "Dep. Variable:           stator_tooth   R-squared:                       1.000\n",
       "Model:                            OLS   Adj. R-squared:                  1.000\n",
       "Method:                 Least Squares   F-statistic:                 2.706e+32\n",
       "Date:                Thu, 02 Jul 2020   Prob (F-statistic):               0.00\n",
       "Time:                        12:13:52   Log-Likelihood:             3.0107e+07\n",
       "No. Observations:              998070   AIC:                        -6.021e+07\n",
       "Df Residuals:                  998059   BIC:                        -6.021e+07\n",
       "Df Model:                          10                                         \n",
       "Covariance Type:            nonrobust                                         \n",
       "==================================================================================\n",
       "                     coef    std err          t      P>|t|      [0.025      0.975]\n",
       "----------------------------------------------------------------------------------\n",
       "const          -2.687e-15   1.92e-17   -139.838      0.000   -2.73e-15   -2.65e-15\n",
       "ambient         1.051e-15    2.3e-17     45.637      0.000    1.01e-15     1.1e-15\n",
       "coolant         8.913e-15   1.23e-16     72.412      0.000    8.67e-15    9.15e-15\n",
       "u_d             9.051e-16   3.72e-17     24.310      0.000    8.32e-16    9.78e-16\n",
       "u_q             2.915e-15   4.29e-17     67.877      0.000    2.83e-15       3e-15\n",
       "motor_speed    -4.923e-15   7.01e-17    -70.260      0.000   -5.06e-15   -4.79e-15\n",
       "i_d            -6.501e-15   5.62e-17   -115.643      0.000   -6.61e-15   -6.39e-15\n",
       "i_q             2.142e-15   3.76e-17     56.910      0.000    2.07e-15    2.22e-15\n",
       "stator_yoke    -5.061e-15   3.82e-16    -13.266      0.000   -5.81e-15   -4.31e-15\n",
       "stator_tooth       1.0000    4.8e-16   2.08e+15      0.000       1.000       1.000\n",
       "stator_winding -2.036e-15   2.37e-16     -8.585      0.000    -2.5e-15   -1.57e-15\n",
       "==============================================================================\n",
       "Omnibus:                    48139.211   Durbin-Watson:                   0.000\n",
       "Prob(Omnibus):                  0.000   Jarque-Bera (JB):            20072.761\n",
       "Skew:                          -0.080   Prob(JB):                         0.00\n",
       "Kurtosis:                       2.324   Cond. No.                         65.9\n",
       "==============================================================================\n",
       "\n",
       "Warnings:\n",
       "[1] Standard Errors assume that the covariance matrix of the errors is correctly specified.\n",
       "\"\"\""
      ]
     },
     "execution_count": 41,
     "metadata": {},
     "output_type": "execute_result"
    }
   ],
   "source": [
    "import statsmodels.api as sm\n",
    "\n",
    "\n",
    "new_x = sm.add_constant(X)\n",
    "model = sm.OLS(new_y,new_x).fit()\n",
    "\n",
    "model.summary()"
   ]
  },
  {
   "cell_type": "markdown",
   "metadata": {},
   "source": [
    "### The data is mild anonymized due to which we cant find much but after applying algorithms on stator, torque or rotro temperature we found the data is almost able to predict 95% plus in almost all cases."
   ]
  },
  {
   "cell_type": "code",
   "execution_count": null,
   "metadata": {},
   "outputs": [],
   "source": []
  },
  {
   "cell_type": "code",
   "execution_count": null,
   "metadata": {},
   "outputs": [],
   "source": []
  },
  {
   "cell_type": "code",
   "execution_count": null,
   "metadata": {},
   "outputs": [],
   "source": []
  }
 ],
 "metadata": {
  "kernelspec": {
   "display_name": "Python 3",
   "language": "python",
   "name": "python3"
  },
  "language_info": {
   "codemirror_mode": {
    "name": "ipython",
    "version": 3
   },
   "file_extension": ".py",
   "mimetype": "text/x-python",
   "name": "python",
   "nbconvert_exporter": "python",
   "pygments_lexer": "ipython3",
   "version": "3.7.4"
  }
 },
 "nbformat": 4,
 "nbformat_minor": 2
}
