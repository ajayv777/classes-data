{
 "cells": [
  {
   "cell_type": "code",
   "execution_count": 3,
   "metadata": {},
   "outputs": [],
   "source": [
    "import cv2\n",
    "import numpy as np\n",
    "import pandas as pd\n",
    "import imutils"
   ]
  },
  {
   "cell_type": "code",
   "execution_count": 8,
   "metadata": {},
   "outputs": [],
   "source": [
    "\n",
    "#loading the image where template is to be found\n",
    "img = cv2.imread('F:/Courses/ASSIGNMENT AND PROJECTS/ajay.jpg')\n",
    "\n",
    "\n",
    "#converting into gray color\n",
    "gray = cv2.cvtColor(img, cv2.COLOR_BGR2GRAY)\n",
    "\n",
    "cv2.imshow('img og' , img)\n",
    "cv2.waitKey(0)\n",
    "gray2 = gray.copy() # we'll use this gray image copy for our work\n",
    "\n",
    "\n",
    "#template image uploading\n",
    "\n",
    "template2 = cv2.imread('F:/Courses/ASSIGNMENT AND PROJECTS/hand.jpg', 0)\n",
    "cv2.imshow('img og' , template2)\n",
    "cv2.waitKey(0)\n",
    "\n",
    "#looping to scale the image. Try different looping number as it will help to find template\n",
    "#accoringly\n",
    "\n",
    "for scaler in range(44,12, -4):\n",
    "    gray3 = gray2.copy()\n",
    "    resized_img = imutils.resize(gray3, width = int(img.shape[1]*(0.01*scaler)))\n",
    "    \n",
    "    \n",
    "    #finding the matching template\n",
    "    \n",
    "    #this will find the template in the image\n",
    "    result = cv2.matchTemplate(resized_img, template2, cv2.TM_SQDIFF)\n",
    "    \n",
    "    #it will give the best result and location for our value\n",
    "    min_val, max_val, min_loc, max_loc = cv2.minMaxLoc(result)\n",
    "    \n",
    "    \n",
    "    #creating bounding box\n",
    "    top_left = min_loc\n",
    "    bot_right = (top_left[0]+80, top_left[1]+80)\n",
    "    cv2.rectangle(resized_img, top_left, bot_right, (168,44,25),3)\n",
    "        \n",
    "    if scaler%4 == 0: #we cannot see every single scaled image so we set condtion for displaying.\n",
    "        cv2.imshow('here is hand', resized_img)\n",
    "        cv2.waitKey(0)\n",
    "        cv2.destroyAllWindows()\n",
    "    else:\n",
    "        continue\n",
    "        \n",
    "   "
   ]
  },
  {
   "cell_type": "code",
   "execution_count": null,
   "metadata": {},
   "outputs": [],
   "source": [
    "dicto"
   ]
  },
  {
   "cell_type": "code",
   "execution_count": 5,
   "metadata": {},
   "outputs": [],
   "source": [
    "#THIS IS MADE TO WORK ON VIDEO BUT IT NEEDS TO BE FIXED AS TEMPLATE SIZE AND IMAGE SIZE DOES\n",
    "# NOT GO TOGEHER\n",
    "\n",
    "import numpy as np\n",
    "import cv2\n",
    "\n",
    "#directly for grey images\n",
    "\n",
    "template2 = cv2.imread('F:/Courses/ASSIGNMENT AND PROJECTS/hand.jpg', 0)\n",
    "# cv2.imshow('img og' , template2)\n",
    "# cv2.waitKey(0)\n",
    "\n",
    "cap = cv2.VideoCapture(0)\n",
    "\n",
    "while(True):\n",
    "    # Capture frame-by-frame\n",
    "    ret, frame = cap.read()\n",
    "\n",
    "    # Our operations on the frame come here\n",
    "    gray = cv2.cvtColor(frame, cv2.COLOR_BGR2GRAY)\n",
    "  \n",
    "  #     for scaler in range(100,10, -1):\n",
    "    resized_img = imutils.resize(template2, width = int(template2.shape[1]*(1)))\n",
    "    \n",
    "    result = cv2.matchTemplate(gray, template2, cv2.TM_SQDIFF)\n",
    "    \n",
    "    #it will give the best result and location for our value\n",
    "    min_val, max_val, min_loc, max_loc = cv2.minMaxLoc(result)\n",
    "    \n",
    "    \n",
    "    #creating bounding box\n",
    "    top_left = min_loc\n",
    "    bot_right = (top_left[0]+80, top_left[1]+80)\n",
    "    cv2.rectangle(gray, top_left, bot_right, (168,44,25),3)\n",
    "    # Display the resulting frame\n",
    "    cv2.imshow('frame',gray)\n",
    "    k = cv2.waitKey(1)\n",
    "    if k ==27:\n",
    "        break\n",
    "    \n",
    "#     if cv2.waitKey(1) & 0xFF == ord('q'):\n",
    "#         break\n",
    "\n",
    "# When everything done, release the capture\n",
    "cap.release()\n",
    "cv2.destroyAllWindows()"
   ]
  },
  {
   "cell_type": "code",
   "execution_count": 29,
   "metadata": {},
   "outputs": [
    {
     "name": "stdout",
     "output_type": "stream",
     "text": [
      "(72664768.0, 78673256.0, (0, 0), (23, 0)) 78673256.0\n",
      "[]\n"
     ]
    }
   ],
   "source": [
    "print(cv2.minMaxLoc(result), result.max())\n",
    "print(dicto)"
   ]
  },
  {
   "cell_type": "code",
   "execution_count": null,
   "metadata": {},
   "outputs": [],
   "source": []
  },
  {
   "cell_type": "code",
   "execution_count": null,
   "metadata": {},
   "outputs": [],
   "source": []
  },
  {
   "cell_type": "code",
   "execution_count": null,
   "metadata": {},
   "outputs": [],
   "source": []
  },
  {
   "cell_type": "code",
   "execution_count": null,
   "metadata": {},
   "outputs": [],
   "source": []
  },
  {
   "cell_type": "code",
   "execution_count": null,
   "metadata": {},
   "outputs": [],
   "source": []
  },
  {
   "cell_type": "code",
   "execution_count": null,
   "metadata": {},
   "outputs": [],
   "source": []
  },
  {
   "cell_type": "code",
   "execution_count": null,
   "metadata": {},
   "outputs": [],
   "source": []
  },
  {
   "cell_type": "code",
   "execution_count": null,
   "metadata": {},
   "outputs": [],
   "source": []
  },
  {
   "cell_type": "code",
   "execution_count": null,
   "metadata": {},
   "outputs": [],
   "source": []
  },
  {
   "cell_type": "code",
   "execution_count": null,
   "metadata": {},
   "outputs": [],
   "source": []
  },
  {
   "cell_type": "code",
   "execution_count": null,
   "metadata": {},
   "outputs": [],
   "source": []
  }
 ],
 "metadata": {
  "kernelspec": {
   "display_name": "Python 3",
   "language": "python",
   "name": "python3"
  },
  "language_info": {
   "codemirror_mode": {
    "name": "ipython",
    "version": 3
   },
   "file_extension": ".py",
   "mimetype": "text/x-python",
   "name": "python",
   "nbconvert_exporter": "python",
   "pygments_lexer": "ipython3",
   "version": "3.7.4"
  }
 },
 "nbformat": 4,
 "nbformat_minor": 2
}
