{
 "cells": [
  {
   "cell_type": "code",
   "execution_count": 1,
   "metadata": {},
   "outputs": [],
   "source": [
    "import cv2\n",
    "import numpy as np\n",
    "import pandas as pd\n",
    "import matplotlib.pyplot as plt"
   ]
  },
  {
   "cell_type": "markdown",
   "metadata": {},
   "source": [
    "# match making template"
   ]
  },
  {
   "cell_type": "code",
   "execution_count": 9,
   "metadata": {},
   "outputs": [],
   "source": [
    "#load image\n",
    "\n",
    "img = cv2.imread('F:/Courses/ASSIGNMENT AND PROJECTS/WaldoBeach.jpg')\n",
    "cv2.imshow('waldo', img)\n",
    "cv2.waitKey(0)\n",
    "\n",
    "\n",
    "#converting into gray images\n",
    "gray = cv2.cvtColor(img, cv2.COLOR_BGR2GRAY)\n",
    "cv2.imshow(\"gray wldobeach\", gray)\n",
    "cv2.waitKey(0)\n",
    "\n",
    "#donwloading template of waldo\n",
    "template = cv2.imread('F:/Courses/ASSIGNMENT AND PROJECTS/waldo.jpg', 0)\n",
    "\n",
    "# matching \n",
    "# The function slides through image , compares the overlapped patches of size against\n",
    "# templ using the specified method and stores the comparison results in result.\n",
    "\n",
    "result = cv2.matchTemplate(gray, template, cv2.TM_SQDIFF)\n",
    "min_val, max_val, min_loc, max_loc = cv2.minMaxLoc(result)\n",
    "\n",
    "\n",
    "\n",
    "#creating bounding box\n",
    "\n",
    "top_left = min_loc\n",
    "bottom_right = (top_left[0]+50, top_left[1]+50) \n",
    "cv2.rectangle(img, top_left, bottom_right, (0,0,255), 5)\n",
    "\n",
    "cv2.imshow('Where is waldo', img)\n",
    "cv2.waitKey(0)\n",
    "\n",
    "cv2.destroyAllWindows()"
   ]
  },
  {
   "cell_type": "code",
   "execution_count": 10,
   "metadata": {},
   "outputs": [
    {
     "data": {
      "text/plain": [
       "852.0"
      ]
     },
     "execution_count": 10,
     "metadata": {},
     "output_type": "execute_result"
    }
   ],
   "source": [
    "min_val"
   ]
  }
 ],
 "metadata": {
  "kernelspec": {
   "display_name": "Python 3",
   "language": "python",
   "name": "python3"
  },
  "language_info": {
   "codemirror_mode": {
    "name": "ipython",
    "version": 3
   },
   "file_extension": ".py",
   "mimetype": "text/x-python",
   "name": "python",
   "nbconvert_exporter": "python",
   "pygments_lexer": "ipython3",
   "version": "3.7.4"
  }
 },
 "nbformat": 4,
 "nbformat_minor": 2
}
