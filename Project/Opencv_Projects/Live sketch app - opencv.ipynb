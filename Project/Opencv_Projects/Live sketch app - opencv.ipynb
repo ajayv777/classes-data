{
 "cells": [
  {
   "cell_type": "code",
   "execution_count": null,
   "metadata": {},
   "outputs": [],
   "source": []
  },
  {
   "cell_type": "code",
   "execution_count": 1,
   "metadata": {},
   "outputs": [],
   "source": [
    "import cv2\n",
    "import matplotlib.pyplot as plt\n",
    "import numpy as np\n",
    "import pandas as pd"
   ]
  },
  {
   "cell_type": "code",
   "execution_count": null,
   "metadata": {},
   "outputs": [],
   "source": []
  },
  {
   "cell_type": "code",
   "execution_count": 2,
   "metadata": {},
   "outputs": [],
   "source": [
    "#Trial region to check th effect of functions on images\n",
    "img2 = cv2.imread(r\"F:\\Completed Task\\sonu.jpg\")\n",
    "img4 = cv2.imread(r\"F:\\PHOTO\\ajay.jpg\")\n",
    "# cv2.imshow('joe', img4)\n",
    "# cv2.waitKey()\n",
    "\n",
    "# cv2.destroyAllWindows()\n",
    "# sobelx = cv2.Sobel(img2,cv2.CV_64F,1,0,ksize=5)\n",
    "# sobely = cv2.Sobel(sobely,cv2.CV_64F,0,1,ksize=5)\n",
    "can = cv2.Canny(img2,10,255)\n",
    "cv2.imshow('sobelx', can)\n",
    "\n",
    "cv2.waitKey(0)\n",
    "cv2.destroyAllWindows()"
   ]
  },
  {
   "cell_type": "code",
   "execution_count": 3,
   "metadata": {},
   "outputs": [],
   "source": [
    "def sketch(image):\n",
    "\n",
    "    grey_img = cv2.cvtColor(image, cv2.COLOR_BGR2GRAY)\n",
    "    \n",
    "   \n",
    "    #sharpening the image before removing the noise to streghten its border\n",
    "    sharpening_kernel = np.array([[-1,-1,-1], [-1,9,-1], [-1,-1,-1]])\n",
    "    grey_img = cv2.filter2D(grey_img, -1, sharpening_kernel)\n",
    "\n",
    "    \n",
    "    \n",
    "  #reducing the noise in the image\n",
    "\n",
    "    blur_img = cv2.GaussianBlur(grey_img, (5,5), 0)\n",
    "    \n",
    "\n",
    "    \n",
    "\n",
    "  #finding the edges using the canny\n",
    "  #Edge extraction\n",
    "\n",
    "    edge_img = cv2.Canny(blur_img, 40,100 )\n",
    "\n",
    "  #Do an invert to binarize the image\n",
    "\n",
    "    ret, mask = cv2.threshold(edge_img, 30,250,cv2.THRESH_BINARY_INV)\n",
    "    return(mask)\n",
    "#inititalize webcam cap is the object provided by videocapture\n",
    "#It contains a boolean indicating if it was successful\n",
    "#It also contains images collected from the cam\n",
    "\n",
    "\n",
    "\n",
    "\n"
   ]
  },
  {
   "cell_type": "code",
   "execution_count": 4,
   "metadata": {},
   "outputs": [],
   "source": [
    "cap = cv2.VideoCapture(0)\n",
    "while True:\n",
    "    ret, frame = cap.read()\n",
    "    cv2.imshow('MY LIVE SKETCH', sketch(frame))\n",
    "    if cv2.waitKey(1) ==13:  #enter key will close the webcam video\n",
    "        break\n",
    "        \n",
    "cap.release() \n",
    "cv2.destroyAllWindows() #cv2. destroyAllWindows() simply destroys all the windows we created. If you want to destroy \n",
    "\n",
    "\n",
    "# while True:\n",
    "#   ret, frame = cap.read()\n",
    "#   cv2.imshow(\"My Live sketch\", sketch(frame))\n",
    "#   if cv2.waitKey(1)==13:\n",
    "#     break\n",
    "\n",
    "\n",
    "# #release the camera and close the window\n",
    "\n",
    "# cap.release()\n",
    "# cv2.destroyAllWindows()"
   ]
  },
  {
   "cell_type": "code",
   "execution_count": 19,
   "metadata": {},
   "outputs": [],
   "source": [
    "grey_img = cv2.cvtColor(img2, cv2.COLOR_BGR2GRAY)\n",
    "cv2.imshow('sonu', grey_img)"
   ]
  },
  {
   "cell_type": "code",
   "execution_count": null,
   "metadata": {},
   "outputs": [],
   "source": [
    "import cv2\n",
    "\n",
    "cap = cv2.VideoCapture(0)\n",
    "\n",
    "# Define the codec and create VideoWriter object\n",
    "fourcc = cv2.VideoWriter_fourcc(*'XVID')\n",
    "out = cv2.VideoWriter('output.avi',fourcc, 20.0, (640,480))\n",
    "\n",
    "while(cap.isOpened()):\n",
    "    ret, frame = cap.read()\n",
    "    if ret==True:\n",
    "        frame = cv2.flip(frame,0)\n",
    "\n",
    "        # write the flipped frame\n",
    "        out.write(frame)\n",
    "\n",
    "        cv2.imshow('frame',frame)\n",
    "        if cv2.waitKey(1) & 0xFF == ord('q'):\n",
    "            break\n",
    "    else:\n",
    "        break\n",
    "\n",
    "# Release everything if job is finished\n",
    "cap.release()\n",
    "out.release()\n",
    "cv2.destroyAllWindows()"
   ]
  },
  {
   "cell_type": "code",
   "execution_count": 6,
   "metadata": {},
   "outputs": [],
   "source": [
    "import numpy as np\n",
    "import cv2\n",
    "\n",
    "#directly for grey images\n",
    "\n",
    "cap = cv2.VideoCapture(0)\n",
    "\n",
    "while(True):\n",
    "    # Capture frame-by-frame\n",
    "    ret, frame = cap.read()\n",
    "\n",
    "    # Our operations on the frame come here\n",
    "    gray = cv2.cvtColor(frame, cv2.COLOR_BGR2GRAY)\n",
    "    #gray = cv2.Laplacian(gray,cv2.CV_64F)\n",
    "    gray = (gray*255).astype(np.uint8) #converting as canny takes images in uint8 form only\n",
    "    \n",
    "    gray = cv2.GaussianBlur(gray, (5,5), 0)\n",
    "    gray = cv2.Canny(gray, 40,100)\n",
    "    ret, gray = cv2.threshold(gray, 10,250,cv2.THRESH_BINARY_INV)\n",
    "    # Display the resulting frame\n",
    "    cv2.imshow('frame',gray)\n",
    "    k = cv2.waitKey(1)\n",
    "    if k ==27:\n",
    "        break\n",
    "    \n",
    "#     if cv2.waitKey(1) & 0xFF == ord('q'):\n",
    "#         break\n",
    "\n",
    "# When everything done, release the capture\n",
    "cap.release()\n",
    "cv2.destroyAllWindows()"
   ]
  },
  {
   "cell_type": "code",
   "execution_count": null,
   "metadata": {},
   "outputs": [],
   "source": []
  }
 ],
 "metadata": {
  "kernelspec": {
   "display_name": "Python 3",
   "language": "python",
   "name": "python3"
  },
  "language_info": {
   "codemirror_mode": {
    "name": "ipython",
    "version": 3
   },
   "file_extension": ".py",
   "mimetype": "text/x-python",
   "name": "python",
   "nbconvert_exporter": "python",
   "pygments_lexer": "ipython3",
   "version": "3.7.4"
  }
 },
 "nbformat": 4,
 "nbformat_minor": 2
}
